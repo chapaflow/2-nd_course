{
  "cells": [
    {
      "cell_type": "markdown",
      "metadata": {
        "id": "Ue45D9oKJECP"
      },
      "source": [
        "# Инициализация проекта\n"
      ]
    },
    {
      "cell_type": "code",
      "execution_count": 1,
      "metadata": {
        "id": "YAcbPDlAcCWd"
      },
      "outputs": [],
      "source": [
        "import pandas as pd\n",
        "from collections import Counter\n",
        "import numpy as np\n",
        "import seaborn as sns\n",
        "import matplotlib.pyplot as plt\n",
        "from sklearn.model_selection import train_test_split\n",
        "from sklearn.neighbors import KNeighborsClassifier\n",
        "from sklearn.metrics import confusion_matrix\n",
        "from sklearn.metrics import accuracy_score\n",
        "from sklearn.metrics import classification_report\n",
        "from sklearn.model_selection import train_test_split\n",
        "from sklearn.linear_model import LogisticRegression\n",
        "from sklearn.naive_bayes import GaussianNB\n",
        "from sklearn import svm\n",
        "from sklearn.svm import SVC\n",
        "from sklearn.metrics import f1_score, accuracy_score, recall_score, precision_score, roc_curve\n",
        "\n",
        "import warnings\n",
        "warnings.filterwarnings(\"ignore\")"
      ]
    },
    {
      "cell_type": "code",
      "execution_count": 2,
      "metadata": {
        "colab": {
          "base_uri": "https://localhost:8080/",
          "height": 226
        },
        "id": "tZLvpItVpqVR",
        "outputId": "168f4e41-f9a0-4cec-c114-da1437d310a3"
      },
      "outputs": [
        {
          "data": {
            "text/html": [
              "<div>\n",
              "<style scoped>\n",
              "    .dataframe tbody tr th:only-of-type {\n",
              "        vertical-align: middle;\n",
              "    }\n",
              "\n",
              "    .dataframe tbody tr th {\n",
              "        vertical-align: top;\n",
              "    }\n",
              "\n",
              "    .dataframe thead th {\n",
              "        text-align: right;\n",
              "    }\n",
              "</style>\n",
              "<table border=\"1\" class=\"dataframe\">\n",
              "  <thead>\n",
              "    <tr style=\"text-align: right;\">\n",
              "      <th></th>\n",
              "      <th>time_left</th>\n",
              "      <th>ct_score</th>\n",
              "      <th>t_score</th>\n",
              "      <th>map</th>\n",
              "      <th>bomb_planted</th>\n",
              "      <th>ct_health</th>\n",
              "      <th>t_health</th>\n",
              "      <th>ct_armor</th>\n",
              "      <th>t_armor</th>\n",
              "      <th>ct_money</th>\n",
              "      <th>t_money</th>\n",
              "      <th>ct_helmets</th>\n",
              "      <th>t_helmets</th>\n",
              "      <th>ct_defuse_kits</th>\n",
              "      <th>ct_players_alive</th>\n",
              "      <th>t_players_alive</th>\n",
              "    </tr>\n",
              "  </thead>\n",
              "  <tbody>\n",
              "    <tr>\n",
              "      <th>0</th>\n",
              "      <td>175.00</td>\n",
              "      <td>0.0</td>\n",
              "      <td>0.0</td>\n",
              "      <td>de_dust2</td>\n",
              "      <td>False</td>\n",
              "      <td>500.0</td>\n",
              "      <td>500.0</td>\n",
              "      <td>0.0</td>\n",
              "      <td>0.0</td>\n",
              "      <td>4000.0</td>\n",
              "      <td>4000.0</td>\n",
              "      <td>0.0</td>\n",
              "      <td>0.0</td>\n",
              "      <td>0.0</td>\n",
              "      <td>5.0</td>\n",
              "      <td>5.0</td>\n",
              "    </tr>\n",
              "    <tr>\n",
              "      <th>1</th>\n",
              "      <td>156.03</td>\n",
              "      <td>0.0</td>\n",
              "      <td>0.0</td>\n",
              "      <td>de_dust2</td>\n",
              "      <td>False</td>\n",
              "      <td>500.0</td>\n",
              "      <td>500.0</td>\n",
              "      <td>400.0</td>\n",
              "      <td>300.0</td>\n",
              "      <td>600.0</td>\n",
              "      <td>650.0</td>\n",
              "      <td>0.0</td>\n",
              "      <td>0.0</td>\n",
              "      <td>1.0</td>\n",
              "      <td>5.0</td>\n",
              "      <td>5.0</td>\n",
              "    </tr>\n",
              "    <tr>\n",
              "      <th>2</th>\n",
              "      <td>96.03</td>\n",
              "      <td>0.0</td>\n",
              "      <td>0.0</td>\n",
              "      <td>de_dust2</td>\n",
              "      <td>False</td>\n",
              "      <td>391.0</td>\n",
              "      <td>400.0</td>\n",
              "      <td>294.0</td>\n",
              "      <td>200.0</td>\n",
              "      <td>750.0</td>\n",
              "      <td>500.0</td>\n",
              "      <td>0.0</td>\n",
              "      <td>0.0</td>\n",
              "      <td>1.0</td>\n",
              "      <td>4.0</td>\n",
              "      <td>4.0</td>\n",
              "    </tr>\n",
              "    <tr>\n",
              "      <th>3</th>\n",
              "      <td>76.03</td>\n",
              "      <td>0.0</td>\n",
              "      <td>0.0</td>\n",
              "      <td>de_dust2</td>\n",
              "      <td>False</td>\n",
              "      <td>391.0</td>\n",
              "      <td>400.0</td>\n",
              "      <td>294.0</td>\n",
              "      <td>200.0</td>\n",
              "      <td>750.0</td>\n",
              "      <td>500.0</td>\n",
              "      <td>0.0</td>\n",
              "      <td>0.0</td>\n",
              "      <td>1.0</td>\n",
              "      <td>4.0</td>\n",
              "      <td>4.0</td>\n",
              "    </tr>\n",
              "    <tr>\n",
              "      <th>4</th>\n",
              "      <td>174.97</td>\n",
              "      <td>1.0</td>\n",
              "      <td>0.0</td>\n",
              "      <td>de_dust2</td>\n",
              "      <td>False</td>\n",
              "      <td>500.0</td>\n",
              "      <td>500.0</td>\n",
              "      <td>192.0</td>\n",
              "      <td>0.0</td>\n",
              "      <td>18350.0</td>\n",
              "      <td>10750.0</td>\n",
              "      <td>0.0</td>\n",
              "      <td>0.0</td>\n",
              "      <td>1.0</td>\n",
              "      <td>5.0</td>\n",
              "      <td>5.0</td>\n",
              "    </tr>\n",
              "  </tbody>\n",
              "</table>\n",
              "</div>"
            ],
            "text/plain": [
              "   time_left  ct_score  t_score       map  bomb_planted  ct_health  t_health  \\\n",
              "0     175.00       0.0      0.0  de_dust2         False      500.0     500.0   \n",
              "1     156.03       0.0      0.0  de_dust2         False      500.0     500.0   \n",
              "2      96.03       0.0      0.0  de_dust2         False      391.0     400.0   \n",
              "3      76.03       0.0      0.0  de_dust2         False      391.0     400.0   \n",
              "4     174.97       1.0      0.0  de_dust2         False      500.0     500.0   \n",
              "\n",
              "   ct_armor  t_armor  ct_money  t_money  ct_helmets  t_helmets  \\\n",
              "0       0.0      0.0    4000.0   4000.0         0.0        0.0   \n",
              "1     400.0    300.0     600.0    650.0         0.0        0.0   \n",
              "2     294.0    200.0     750.0    500.0         0.0        0.0   \n",
              "3     294.0    200.0     750.0    500.0         0.0        0.0   \n",
              "4     192.0      0.0   18350.0  10750.0         0.0        0.0   \n",
              "\n",
              "   ct_defuse_kits  ct_players_alive  t_players_alive  \n",
              "0             0.0               5.0              5.0  \n",
              "1             1.0               5.0              5.0  \n",
              "2             1.0               4.0              4.0  \n",
              "3             1.0               4.0              4.0  \n",
              "4             1.0               5.0              5.0  "
            ]
          },
          "execution_count": 2,
          "metadata": {},
          "output_type": "execute_result"
        }
      ],
      "source": [
        "data = pd.read_csv('csgo_task.csv')\n",
        "\n",
        "data.head()"
      ]
    },
    {
      "cell_type": "code",
      "execution_count": 3,
      "metadata": {
        "colab": {
          "base_uri": "https://localhost:8080/"
        },
        "id": "RJf0iD6828hX",
        "outputId": "35feb416-cf89-43ff-8ccd-d2b76f297420"
      },
      "outputs": [
        {
          "name": "stdout",
          "output_type": "stream",
          "text": [
            "<class 'pandas.core.frame.DataFrame'>\n",
            "RangeIndex: 122410 entries, 0 to 122409\n",
            "Data columns (total 16 columns):\n",
            " #   Column            Non-Null Count   Dtype  \n",
            "---  ------            --------------   -----  \n",
            " 0   time_left         122410 non-null  float64\n",
            " 1   ct_score          122410 non-null  float64\n",
            " 2   t_score           121386 non-null  float64\n",
            " 3   map               122199 non-null  object \n",
            " 4   bomb_planted      122410 non-null  bool   \n",
            " 5   ct_health         122410 non-null  float64\n",
            " 6   t_health          121627 non-null  float64\n",
            " 7   ct_armor          122410 non-null  float64\n",
            " 8   t_armor           122410 non-null  float64\n",
            " 9   ct_money          122410 non-null  float64\n",
            " 10  t_money           122410 non-null  float64\n",
            " 11  ct_helmets        121766 non-null  float64\n",
            " 12  t_helmets         121560 non-null  float64\n",
            " 13  ct_defuse_kits    121766 non-null  float64\n",
            " 14  ct_players_alive  122410 non-null  float64\n",
            " 15  t_players_alive   122182 non-null  float64\n",
            "dtypes: bool(1), float64(14), object(1)\n",
            "memory usage: 14.1+ MB\n"
          ]
        }
      ],
      "source": [
        "data.info()"
      ]
    },
    {
      "cell_type": "code",
      "execution_count": 4,
      "metadata": {
        "colab": {
          "base_uri": "https://localhost:8080/"
        },
        "id": "n7V5uqUd6pFt",
        "outputId": "ed6fb26a-7368-4fc9-d1b3-78e2764ba0fe"
      },
      "outputs": [
        {
          "name": "stdout",
          "output_type": "stream",
          "text": [
            "<class 'pandas.core.frame.DataFrame'>\n",
            "RangeIndex: 122410 entries, 0 to 122409\n",
            "Data columns (total 15 columns):\n",
            " #   Column            Non-Null Count   Dtype  \n",
            "---  ------            --------------   -----  \n",
            " 0   time_left         122410 non-null  float64\n",
            " 1   ct_score          122410 non-null  float64\n",
            " 2   t_score           121386 non-null  float64\n",
            " 3   bomb_planted      122410 non-null  bool   \n",
            " 4   ct_health         122410 non-null  float64\n",
            " 5   t_health          121627 non-null  float64\n",
            " 6   ct_armor          122410 non-null  float64\n",
            " 7   t_armor           122410 non-null  float64\n",
            " 8   ct_money          122410 non-null  float64\n",
            " 9   t_money           122410 non-null  float64\n",
            " 10  ct_helmets        121766 non-null  float64\n",
            " 11  t_helmets         121560 non-null  float64\n",
            " 12  ct_defuse_kits    121766 non-null  float64\n",
            " 13  ct_players_alive  122410 non-null  float64\n",
            " 14  t_players_alive   122182 non-null  float64\n",
            "dtypes: bool(1), float64(14)\n",
            "memory usage: 13.2 MB\n"
          ]
        }
      ],
      "source": [
        "data = data.drop(\"map\", axis=1) #Никак не влияет на наши дальнейшие рассуждения\n",
        "data.info()"
      ]
    },
    {
      "cell_type": "code",
      "execution_count": 5,
      "metadata": {
        "colab": {
          "base_uri": "https://localhost:8080/"
        },
        "id": "IThox1Sm3Qtn",
        "outputId": "0dc33e71-4b78-412e-994b-432c84f23da7"
      },
      "outputs": [
        {
          "data": {
            "text/plain": [
              "time_left              0\n",
              "ct_score               0\n",
              "t_score             1024\n",
              "bomb_planted           0\n",
              "ct_health              0\n",
              "t_health             783\n",
              "ct_armor               0\n",
              "t_armor                0\n",
              "ct_money               0\n",
              "t_money                0\n",
              "ct_helmets           644\n",
              "t_helmets            850\n",
              "ct_defuse_kits       644\n",
              "ct_players_alive       0\n",
              "t_players_alive      228\n",
              "dtype: int64"
            ]
          },
          "execution_count": 5,
          "metadata": {},
          "output_type": "execute_result"
        }
      ],
      "source": [
        "data.isna().sum()"
      ]
    },
    {
      "cell_type": "code",
      "execution_count": 6,
      "metadata": {
        "id": "-fIU3X3_SI5z"
      },
      "outputs": [],
      "source": [
        "data.dropna(inplace = True)"
      ]
    },
    {
      "cell_type": "code",
      "execution_count": 7,
      "metadata": {
        "colab": {
          "base_uri": "https://localhost:8080/"
        },
        "id": "wN4yTmkxSQ-B",
        "outputId": "90704cfe-b4ac-447e-dd23-698642a6c99f"
      },
      "outputs": [
        {
          "data": {
            "text/plain": [
              "time_left           0\n",
              "ct_score            0\n",
              "t_score             0\n",
              "bomb_planted        0\n",
              "ct_health           0\n",
              "t_health            0\n",
              "ct_armor            0\n",
              "t_armor             0\n",
              "ct_money            0\n",
              "t_money             0\n",
              "ct_helmets          0\n",
              "t_helmets           0\n",
              "ct_defuse_kits      0\n",
              "ct_players_alive    0\n",
              "t_players_alive     0\n",
              "dtype: int64"
            ]
          },
          "execution_count": 7,
          "metadata": {},
          "output_type": "execute_result"
        }
      ],
      "source": [
        "data.isna().sum()"
      ]
    },
    {
      "cell_type": "code",
      "execution_count": 8,
      "metadata": {
        "colab": {
          "base_uri": "https://localhost:8080/",
          "height": 226
        },
        "id": "l6ZUfGk13uLm",
        "outputId": "073012e7-3781-461c-b341-1d4f8259dba7"
      },
      "outputs": [
        {
          "data": {
            "text/html": [
              "<div>\n",
              "<style scoped>\n",
              "    .dataframe tbody tr th:only-of-type {\n",
              "        vertical-align: middle;\n",
              "    }\n",
              "\n",
              "    .dataframe tbody tr th {\n",
              "        vertical-align: top;\n",
              "    }\n",
              "\n",
              "    .dataframe thead th {\n",
              "        text-align: right;\n",
              "    }\n",
              "</style>\n",
              "<table border=\"1\" class=\"dataframe\">\n",
              "  <thead>\n",
              "    <tr style=\"text-align: right;\">\n",
              "      <th></th>\n",
              "      <th>time_left</th>\n",
              "      <th>ct_score</th>\n",
              "      <th>t_score</th>\n",
              "      <th>bomb_planted</th>\n",
              "      <th>ct_health</th>\n",
              "      <th>t_health</th>\n",
              "      <th>ct_armor</th>\n",
              "      <th>t_armor</th>\n",
              "      <th>ct_money</th>\n",
              "      <th>t_money</th>\n",
              "      <th>ct_helmets</th>\n",
              "      <th>t_helmets</th>\n",
              "      <th>ct_defuse_kits</th>\n",
              "      <th>ct_players_alive</th>\n",
              "      <th>t_players_alive</th>\n",
              "    </tr>\n",
              "  </thead>\n",
              "  <tbody>\n",
              "    <tr>\n",
              "      <th>0</th>\n",
              "      <td>175.00</td>\n",
              "      <td>0.0</td>\n",
              "      <td>0.0</td>\n",
              "      <td>False</td>\n",
              "      <td>500.0</td>\n",
              "      <td>500.0</td>\n",
              "      <td>0.0</td>\n",
              "      <td>0.0</td>\n",
              "      <td>4000.0</td>\n",
              "      <td>4000.0</td>\n",
              "      <td>0.0</td>\n",
              "      <td>0.0</td>\n",
              "      <td>0.0</td>\n",
              "      <td>5.0</td>\n",
              "      <td>5.0</td>\n",
              "    </tr>\n",
              "    <tr>\n",
              "      <th>1</th>\n",
              "      <td>156.03</td>\n",
              "      <td>0.0</td>\n",
              "      <td>0.0</td>\n",
              "      <td>False</td>\n",
              "      <td>500.0</td>\n",
              "      <td>500.0</td>\n",
              "      <td>400.0</td>\n",
              "      <td>300.0</td>\n",
              "      <td>600.0</td>\n",
              "      <td>650.0</td>\n",
              "      <td>0.0</td>\n",
              "      <td>0.0</td>\n",
              "      <td>1.0</td>\n",
              "      <td>5.0</td>\n",
              "      <td>5.0</td>\n",
              "    </tr>\n",
              "    <tr>\n",
              "      <th>2</th>\n",
              "      <td>96.03</td>\n",
              "      <td>0.0</td>\n",
              "      <td>0.0</td>\n",
              "      <td>False</td>\n",
              "      <td>391.0</td>\n",
              "      <td>400.0</td>\n",
              "      <td>294.0</td>\n",
              "      <td>200.0</td>\n",
              "      <td>750.0</td>\n",
              "      <td>500.0</td>\n",
              "      <td>0.0</td>\n",
              "      <td>0.0</td>\n",
              "      <td>1.0</td>\n",
              "      <td>4.0</td>\n",
              "      <td>4.0</td>\n",
              "    </tr>\n",
              "    <tr>\n",
              "      <th>3</th>\n",
              "      <td>76.03</td>\n",
              "      <td>0.0</td>\n",
              "      <td>0.0</td>\n",
              "      <td>False</td>\n",
              "      <td>391.0</td>\n",
              "      <td>400.0</td>\n",
              "      <td>294.0</td>\n",
              "      <td>200.0</td>\n",
              "      <td>750.0</td>\n",
              "      <td>500.0</td>\n",
              "      <td>0.0</td>\n",
              "      <td>0.0</td>\n",
              "      <td>1.0</td>\n",
              "      <td>4.0</td>\n",
              "      <td>4.0</td>\n",
              "    </tr>\n",
              "    <tr>\n",
              "      <th>4</th>\n",
              "      <td>174.97</td>\n",
              "      <td>1.0</td>\n",
              "      <td>0.0</td>\n",
              "      <td>False</td>\n",
              "      <td>500.0</td>\n",
              "      <td>500.0</td>\n",
              "      <td>192.0</td>\n",
              "      <td>0.0</td>\n",
              "      <td>18350.0</td>\n",
              "      <td>10750.0</td>\n",
              "      <td>0.0</td>\n",
              "      <td>0.0</td>\n",
              "      <td>1.0</td>\n",
              "      <td>5.0</td>\n",
              "      <td>5.0</td>\n",
              "    </tr>\n",
              "  </tbody>\n",
              "</table>\n",
              "</div>"
            ],
            "text/plain": [
              "   time_left  ct_score  t_score  bomb_planted  ct_health  t_health  ct_armor  \\\n",
              "0     175.00       0.0      0.0         False      500.0     500.0       0.0   \n",
              "1     156.03       0.0      0.0         False      500.0     500.0     400.0   \n",
              "2      96.03       0.0      0.0         False      391.0     400.0     294.0   \n",
              "3      76.03       0.0      0.0         False      391.0     400.0     294.0   \n",
              "4     174.97       1.0      0.0         False      500.0     500.0     192.0   \n",
              "\n",
              "   t_armor  ct_money  t_money  ct_helmets  t_helmets  ct_defuse_kits  \\\n",
              "0      0.0    4000.0   4000.0         0.0        0.0             0.0   \n",
              "1    300.0     600.0    650.0         0.0        0.0             1.0   \n",
              "2    200.0     750.0    500.0         0.0        0.0             1.0   \n",
              "3    200.0     750.0    500.0         0.0        0.0             1.0   \n",
              "4      0.0   18350.0  10750.0         0.0        0.0             1.0   \n",
              "\n",
              "   ct_players_alive  t_players_alive  \n",
              "0               5.0              5.0  \n",
              "1               5.0              5.0  \n",
              "2               4.0              4.0  \n",
              "3               4.0              4.0  \n",
              "4               5.0              5.0  "
            ]
          },
          "execution_count": 8,
          "metadata": {},
          "output_type": "execute_result"
        }
      ],
      "source": [
        "data.head()"
      ]
    },
    {
      "cell_type": "code",
      "execution_count": null,
      "metadata": {
        "colab": {
          "base_uri": "https://localhost:8080/"
        },
        "id": "smBrBDcl4AGi",
        "outputId": "85ae5cf8-2447-46c3-a7d9-9d4d4269d717"
      },
      "outputs": [
        {
          "data": {
            "text/plain": [
              "6308"
            ]
          },
          "execution_count": 9,
          "metadata": {},
          "output_type": "execute_result"
        }
      ],
      "source": [
        "data.duplicated().sum()"
      ]
    },
    {
      "cell_type": "code",
      "execution_count": 9,
      "metadata": {
        "colab": {
          "base_uri": "https://localhost:8080/"
        },
        "id": "rBrh94rQ4crE",
        "outputId": "c9ece51f-7482-4f47-fdd3-20e83e36e914"
      },
      "outputs": [
        {
          "data": {
            "text/plain": [
              "0"
            ]
          },
          "execution_count": 9,
          "metadata": {},
          "output_type": "execute_result"
        }
      ],
      "source": [
        "data.drop_duplicates(inplace=True)\n",
        "data.duplicated().sum()"
      ]
    },
    {
      "cell_type": "markdown",
      "metadata": {
        "id": "I7gLkSxY5MIY"
      },
      "source": [
        "# Разберёмся с нашими значениями\n",
        "\n",
        "time_left - время до конца раунда\n",
        "\n",
        "ct_score - счёт спецназовцев\n",
        "\n",
        "t_score - счёт террористов\n",
        "\n",
        "ct_health - здоровье спецназовцев\n",
        "\n",
        "t_health - здоровье террорирстов\n",
        "\n",
        "ct_armor - броня спецназовцев\n",
        "\n",
        "t_armor - броня террорирстов\n",
        "\n",
        "ct_helmets - шлем у спецназовцев\n",
        "\n",
        "t_helmets - шлем у террористов\n",
        "\n",
        "ct_defuse_kits - набор сапёра у спецназовцев\n",
        "\n",
        "ct_players_alive - живих спецназовцев\n",
        "\n",
        "t_playes_alive - живых террорирстов\n",
        "\n",
        "\n"
      ]
    },
    {
      "cell_type": "markdown",
      "metadata": {
        "id": "MFKevtRO6xKm"
      },
      "source": [
        "# Проанализируем наши данные\n"
      ]
    },
    {
      "cell_type": "markdown",
      "metadata": {
        "id": "OS9dO0TzNhb2"
      },
      "source": [
        "CS:GO - компьютерная игра, где задача террорирстов установить бомбу или убить всех спецназовцев, а задача спценаза - убить всех террорирстов или разминировать бомбу. В этой игре зачастую бывают нестандартные ситуации, поэтому нельзя сказать, что игра будет всегда идти по определённому сценарию. В связи с этим, я считаю, что нельзя назвать какие-либо данные выбросами, а так же из-за этого можно потерять часть определённых ситуаций: например у игроков может быть в среднем по 10000, тогда 50000 окажется выбросом."
      ]
    },
    {
      "cell_type": "code",
      "execution_count": null,
      "metadata": {
        "colab": {
          "base_uri": "https://localhost:8080/",
          "height": 428
        },
        "id": "5cJfpYSU9RyK",
        "outputId": "7a1a7d6b-4533-4815-f2d3-0d99bda345d4"
      },
      "outputs": [
        {
          "data": {
            "text/plain": [
              "<Axes: ylabel='time_left'>"
            ]
          },
          "execution_count": 11,
          "metadata": {},
          "output_type": "execute_result"
        },
        {
          "data": {
            "image/png": "[encoded data removed]",
            "text/plain": [
              "<Figure size 640x480 with 1 Axes>"
            ]
          },
          "metadata": {},
          "output_type": "display_data"
        }
      ],
      "source": [
        "sns.boxplot(y='time_left',data=data)"
      ]
    },
    {
      "cell_type": "code",
      "execution_count": null,
      "metadata": {
        "colab": {
          "base_uri": "https://localhost:8080/",
          "height": 428
        },
        "id": "F6d68HAk9dv9",
        "outputId": "99182050-1bf1-471e-a1f5-6a239d89e8fd"
      },
      "outputs": [
        {
          "data": {
            "text/plain": [
              "<Axes: ylabel='ct_score'>"
            ]
          },
          "execution_count": 12,
          "metadata": {},
          "output_type": "execute_result"
        },
        {
          "data": {
            "image/png": "[encoded data removed]",
            "text/plain": [
              "<Figure size 640x480 with 1 Axes>"
            ]
          },
          "metadata": {},
          "output_type": "display_data"
        }
      ],
      "source": [
        "sns.boxplot(y='ct_score',data=data)"
      ]
    },
    {
      "cell_type": "code",
      "execution_count": null,
      "metadata": {
        "colab": {
          "base_uri": "https://localhost:8080/",
          "height": 428
        },
        "id": "aYIWmd3z9e0K",
        "outputId": "5d7877c1-ae3b-4889-cdfa-77a6f280130c"
      },
      "outputs": [
        {
          "data": {
            "text/plain": [
              "<Axes: ylabel='t_score'>"
            ]
          },
          "execution_count": 13,
          "metadata": {},
          "output_type": "execute_result"
        },
        {
          "data": {
            "image/png": "[encoded data removed]",
            "text/plain": [
              "<Figure size 640x480 with 1 Axes>"
            ]
          },
          "metadata": {},
          "output_type": "display_data"
        }
      ],
      "source": [
        "sns.boxplot(y='t_score',data=data)"
      ]
    },
    {
      "cell_type": "code",
      "execution_count": null,
      "metadata": {
        "colab": {
          "base_uri": "https://localhost:8080/",
          "height": 428
        },
        "id": "CL3YJ64Q9iCZ",
        "outputId": "befc7564-dbc3-405c-f5d7-d2ff5f368da7"
      },
      "outputs": [
        {
          "data": {
            "text/plain": [
              "<Axes: ylabel='ct_health'>"
            ]
          },
          "execution_count": 13,
          "metadata": {},
          "output_type": "execute_result"
        },
        {
          "data": {
            "image/png": "[encoded data removed]",
            "text/plain": [
              "<Figure size 640x480 with 1 Axes>"
            ]
          },
          "metadata": {},
          "output_type": "display_data"
        }
      ],
      "source": [
        "sns.boxplot(y='ct_health',data=data)"
      ]
    },
    {
      "cell_type": "code",
      "execution_count": null,
      "metadata": {
        "colab": {
          "base_uri": "https://localhost:8080/",
          "height": 428
        },
        "id": "IibiAY5t9ky4",
        "outputId": "1ef5e5c0-6350-47b5-89d8-c0b50376468f"
      },
      "outputs": [
        {
          "data": {
            "text/plain": [
              "<Axes: ylabel='t_health'>"
            ]
          },
          "execution_count": 14,
          "metadata": {},
          "output_type": "execute_result"
        },
        {
          "data": {
            "image/png": "[encoded data removed]",
            "text/plain": [
              "<Figure size 640x480 with 1 Axes>"
            ]
          },
          "metadata": {},
          "output_type": "display_data"
        }
      ],
      "source": [
        "sns.boxplot(y='t_health',data=data)"
      ]
    },
    {
      "cell_type": "code",
      "execution_count": null,
      "metadata": {
        "colab": {
          "base_uri": "https://localhost:8080/",
          "height": 428
        },
        "id": "b1RP46cu9mdY",
        "outputId": "dc2b2f01-f22b-416a-9bcd-f388070b707d"
      },
      "outputs": [
        {
          "data": {
            "text/plain": [
              "<Axes: ylabel='ct_armor'>"
            ]
          },
          "execution_count": 15,
          "metadata": {},
          "output_type": "execute_result"
        },
        {
          "data": {
            "image/png": "[encoded data removed]",
            "text/plain": [
              "<Figure size 640x480 with 1 Axes>"
            ]
          },
          "metadata": {},
          "output_type": "display_data"
        }
      ],
      "source": [
        "sns.boxplot(y='ct_armor',data=data)"
      ]
    },
    {
      "cell_type": "code",
      "execution_count": null,
      "metadata": {
        "colab": {
          "base_uri": "https://localhost:8080/",
          "height": 428
        },
        "id": "XhfEFjQS9n6Y",
        "outputId": "3d4cb48f-87c8-4682-cbe5-e8f1814cbcf9"
      },
      "outputs": [
        {
          "data": {
            "text/plain": [
              "<Axes: ylabel='t_armor'>"
            ]
          },
          "execution_count": 16,
          "metadata": {},
          "output_type": "execute_result"
        },
        {
          "data": {
            "image/png": "[encoded data removed]",
            "text/plain": [
              "<Figure size 640x480 with 1 Axes>"
            ]
          },
          "metadata": {},
          "output_type": "display_data"
        }
      ],
      "source": [
        "sns.boxplot(y='t_armor',data=data)"
      ]
    },
    {
      "cell_type": "code",
      "execution_count": null,
      "metadata": {
        "colab": {
          "base_uri": "https://localhost:8080/",
          "height": 428
        },
        "id": "ZinUFJmO9pfZ",
        "outputId": "5dc04918-4228-4f44-e6de-25d65ad405be"
      },
      "outputs": [
        {
          "data": {
            "text/plain": [
              "<Axes: ylabel='ct_money'>"
            ]
          },
          "execution_count": 17,
          "metadata": {},
          "output_type": "execute_result"
        },
        {
          "data": {
            "image/png": "[encoded data removed]",
            "text/plain": [
              "<Figure size 640x480 with 1 Axes>"
            ]
          },
          "metadata": {},
          "output_type": "display_data"
        }
      ],
      "source": [
        "sns.boxplot(y='ct_money',data=data)"
      ]
    },
    {
      "cell_type": "code",
      "execution_count": null,
      "metadata": {
        "colab": {
          "base_uri": "https://localhost:8080/",
          "height": 428
        },
        "id": "ThQ0ZGjO9rdd",
        "outputId": "7fb6ec02-be0a-473f-b1cf-e8c101fbe7c2"
      },
      "outputs": [
        {
          "data": {
            "text/plain": [
              "<Axes: ylabel='t_money'>"
            ]
          },
          "execution_count": 18,
          "metadata": {},
          "output_type": "execute_result"
        },
        {
          "data": {
            "image/png": "[encoded data removed]",
            "text/plain": [
              "<Figure size 640x480 with 1 Axes>"
            ]
          },
          "metadata": {},
          "output_type": "display_data"
        }
      ],
      "source": [
        "sns.boxplot(y='t_money',data=data)"
      ]
    },
    {
      "cell_type": "markdown",
      "metadata": {
        "id": "Qli2hLn2Pfyw"
      },
      "source": [
        "# Разберёмся с целевым признаком и предикторами\n",
        "\n"
      ]
    },
    {
      "cell_type": "markdown",
      "metadata": {
        "id": "mugdme1APrJB"
      },
      "source": [
        "Установка бомбы зачастую является главным составляющим для победы в раунде, именно поэтому столбец \"bomb_planted\" и можно назвать целевым признаком. Остальные данные же являются предикторами, потому что они так или иначе зависят от \"bomb_planted\"."
      ]
    },
    {
      "cell_type": "code",
      "execution_count": 10,
      "metadata": {
        "id": "MnFetnzc-fIq"
      },
      "outputs": [],
      "source": [
        "data = pd.get_dummies(data, columns=['bomb_planted'], drop_first=True)\n",
        "#Преобразование категориальных признаков (\"bomb_planted\" в дамми переменные)"
      ]
    },
    {
      "cell_type": "code",
      "execution_count": 11,
      "metadata": {
        "colab": {
          "base_uri": "https://localhost:8080/"
        },
        "id": "3gdWzIZf-h25",
        "outputId": "4bb002cc-c283-4712-f795-36f61d1b11c1"
      },
      "outputs": [
        {
          "name": "stdout",
          "output_type": "stream",
          "text": [
            "<class 'pandas.core.frame.DataFrame'>\n",
            "Index: 111988 entries, 0 to 122409\n",
            "Data columns (total 15 columns):\n",
            " #   Column             Non-Null Count   Dtype  \n",
            "---  ------             --------------   -----  \n",
            " 0   time_left          111988 non-null  float64\n",
            " 1   ct_score           111988 non-null  float64\n",
            " 2   t_score            111988 non-null  float64\n",
            " 3   ct_health          111988 non-null  float64\n",
            " 4   t_health           111988 non-null  float64\n",
            " 5   ct_armor           111988 non-null  float64\n",
            " 6   t_armor            111988 non-null  float64\n",
            " 7   ct_money           111988 non-null  float64\n",
            " 8   t_money            111988 non-null  float64\n",
            " 9   ct_helmets         111988 non-null  float64\n",
            " 10  t_helmets          111988 non-null  float64\n",
            " 11  ct_defuse_kits     111988 non-null  float64\n",
            " 12  ct_players_alive   111988 non-null  float64\n",
            " 13  t_players_alive    111988 non-null  float64\n",
            " 14  bomb_planted_True  111988 non-null  bool   \n",
            "dtypes: bool(1), float64(14)\n",
            "memory usage: 12.9 MB\n"
          ]
        }
      ],
      "source": [
        "data.info()"
      ]
    },
    {
      "cell_type": "markdown",
      "metadata": {
        "id": "0Y7cL36f_Hz6"
      },
      "source": [
        "# Проверим диcбаланс классов"
      ]
    },
    {
      "cell_type": "code",
      "execution_count": 12,
      "metadata": {
        "id": "pHonx5qc_LSJ"
      },
      "outputs": [],
      "source": [
        "planted = data[data['bomb_planted_True']==1] #сохраняем где значение столбца True\n",
        "not_planted = data[data['bomb_planted_True']==0] #сохраняем где значние столбца False"
      ]
    },
    {
      "cell_type": "code",
      "execution_count": 13,
      "metadata": {
        "id": "O5_fW3opFqDt"
      },
      "outputs": [],
      "source": [
        "prework = pd.concat([planted, not_planted]) #проверим как было изначально"
      ]
    },
    {
      "cell_type": "code",
      "execution_count": 14,
      "metadata": {
        "colab": {
          "base_uri": "https://localhost:8080/",
          "height": 521
        },
        "id": "iKY6BW25GGsh",
        "outputId": "1f5647af-91a6-4823-beaa-55254755e222"
      },
      "outputs": [
        {
          "data": {
            "image/png": "[encoded data removed]",
            "text/plain": [
              "<Figure size 600x600 with 1 Axes>"
            ]
          },
          "metadata": {},
          "output_type": "display_data"
        }
      ],
      "source": [
        "plt.figure(figsize=(6, 6))\n",
        "prework['bomb_planted_True'].value_counts().plot(kind='pie', autopct='%1.1f%%', labels=['Бомба установлена', 'Бомба не установлена']) #форматирование процентов, подписи секторов (kind='pie' - означает что диаграмма круговая)\n",
        "plt.title('Диcбаланс классов')\n",
        "plt.show()"
      ]
    },
    {
      "cell_type": "code",
      "execution_count": 15,
      "metadata": {
        "id": "2WRpnIgN_PVp"
      },
      "outputs": [],
      "source": [
        "sampling = not_planted.sample(n=len(planted), replace=True, random_state=42)\n",
        "#Эта строка выполняет сэмплирование (выборку) с целью создать выборку такого же размера, как planted"
      ]
    },
    {
      "cell_type": "code",
      "execution_count": 16,
      "metadata": {
        "id": "2aRoIDTaA-nN"
      },
      "outputs": [],
      "source": [
        "checker = pd.concat([planted, sampling])"
      ]
    },
    {
      "cell_type": "code",
      "execution_count": 17,
      "metadata": {
        "colab": {
          "base_uri": "https://localhost:8080/",
          "height": 521
        },
        "id": "isqz7QuhB8CN",
        "outputId": "dd19becf-cf7b-49f0-a3d3-13230439d297"
      },
      "outputs": [
        {
          "data": {
            "image/png": "[encoded data removed]",
            "text/plain": [
              "<Figure size 600x600 with 1 Axes>"
            ]
          },
          "metadata": {},
          "output_type": "display_data"
        }
      ],
      "source": [
        "plt.figure(figsize=(6, 6))\n",
        "checker['bomb_planted_True'].value_counts().plot(kind='pie', autopct='%1.1f%%', labels=['Бомба установлена', 'Бомба не установлена']) #форматирование процентов, подписи секторов (kind='pie' - означает что диаграмма круговая)\n",
        "plt.title('Диcбаланс классов')\n",
        "plt.show()"
      ]
    },
    {
      "cell_type": "markdown",
      "metadata": {
        "id": "0k-f4VogCtZc"
      },
      "source": [
        "Итак, мы видим, что дизбаланса между классами нет."
      ]
    },
    {
      "cell_type": "markdown",
      "metadata": {
        "id": "dQfNsrs6C47E"
      },
      "source": [
        "# Реализуем KNN"
      ]
    },
    {
      "cell_type": "code",
      "execution_count": 18,
      "metadata": {
        "id": "1hqW63Ebs3nZ"
      },
      "outputs": [],
      "source": [
        "def plot_confusion_matrix(y_true, y_pred, classes=None, normalize=False, cmap='Purples', title='Матрица ошибок'):\n",
        "    \"\"\"\n",
        "    Отображает матрицу ошибок.\n",
        "\n",
        "    Параметры:\n",
        "    - y_true: Настоящие метки классов.\n",
        "    - y_pred: Предсказанные метки классов.\n",
        "    - classes: Список названий классов.\n",
        "    - normalize: Если True, матрица ошибок нормализуется.\n",
        "    - cmap: Цветовая схема для отображения.\n",
        "    - title: Заголовок графика.\n",
        "    \"\"\"\n",
        "    cm = confusion_matrix(y_true, y_pred)\n",
        "\n",
        "    if classes is not None:\n",
        "        sns.heatmap(cm, annot=True, fmt='d', cmap=cmap, cbar=False, xticklabels=classes, yticklabels=classes)\n",
        "    else:\n",
        "        sns.heatmap(cm, annot=True, fmt='d', cmap=cmap, cbar=False)\n",
        "\n",
        "    plt.xlabel('Предсказанные классы')\n",
        "    plt.ylabel('Фактические классы')\n",
        "    plt.title(title)\n",
        "    plt.show()"
      ]
    },
    {
      "cell_type": "markdown",
      "metadata": {
        "id": "aknguJCJzr8U"
      },
      "source": [
        "# Мой KNN"
      ]
    },
    {
      "cell_type": "code",
      "execution_count": 19,
      "metadata": {
        "id": "8nhBz8KVzzXM"
      },
      "outputs": [],
      "source": [
        "class KNN:\n",
        "    #принимает параметр k - число соседей\n",
        "    def __init__(self, k=3):\n",
        "        self.k = k\n",
        "    #метод обучения\n",
        "    def fit(self, X_train, y_train):\n",
        "        self.X_train = X_train\n",
        "        self.y_train = y_train\n",
        "    #метод предсказания\n",
        "    def predict(self, X_test):\n",
        "        predictions = [self._predict(x) for x in X_test]\n",
        "        return np.array(predictions)\n",
        "\n",
        "    def _predict(self, x):\n",
        "        # Рассчитать расстояния между x и всеми примерами в обучающем наборе\n",
        "        distances = [np.linalg.norm(x - x_train) for x_train in self.X_train]\n",
        "\n",
        "        # Получить индексы K ближайших примеров\n",
        "        k_neighbors_indices = np.argsort(distances)[:self.k]\n",
        "\n",
        "        # Получить метки K ближайших примеров\n",
        "        k_neighbor_labels = [self.y_train[i] for i in k_neighbors_indices]\n",
        "\n",
        "        # Найти наиболее часто встречающуюся метку\n",
        "        most_common = Counter(k_neighbor_labels).most_common(1)\n",
        "        return most_common[0][0]"
      ]
    },
    {
      "cell_type": "code",
      "execution_count": null,
      "metadata": {
        "colab": {
          "base_uri": "https://localhost:8080/"
        },
        "id": "XgyyBHyZ5bSR",
        "outputId": "aa49195b-f3a2-4669-edf9-3c5330dcefc6"
      },
      "outputs": [
        {
          "name": "stdout",
          "output_type": "stream",
          "text": [
            "Accuracy: 0.8514739229024944\n"
          ]
        }
      ],
      "source": [
        "# Создание и обучение модели KNN\n",
        "knn = KNN(k=3)\n",
        "knn.fit(X_train.values, y_train.values)\n",
        "\n",
        "# Предсказание меток на тестовом наборе\n",
        "y_pred = knn.predict(X_test.values)\n",
        "\n",
        "# Оценка производительности модели\n",
        "accuracy = np.sum(y_pred == y_test.values) / len(y_test)\n",
        "print(f'Accuracy: {accuracy}')"
      ]
    },
    {
      "cell_type": "code",
      "execution_count": 20,
      "metadata": {
        "id": "ddnVvbWhtC9F"
      },
      "outputs": [],
      "source": [
        "def evaluate_knn(X_train, X_test, y_train, y_test):\n",
        "    # KNN (k-Nearest Neighbors) в машинном обучении - это метод, используемый для классификации и регрессии на основе близости объектов в признаковом пространстве\n",
        "    # Создание и обучение модели k-Nearest Neighbors\n",
        "    knn = KNeighborsClassifier().fit(X_train, y_train)\n",
        "\n",
        "    # Получение предсказаний\n",
        "    y_pred = knn.predict(X_test)\n",
        "\n",
        "    # Вывод точности\n",
        "    print(\"Точность KNN:\")\n",
        "    print(accuracy_score(y_test, y_pred))\n",
        "\n",
        "    # Вывод отчета о классификации\n",
        "    print(\"Отчёт о классификации:\")\n",
        "    print(classification_report(y_test, y_pred))\n",
        "\n",
        "    # Визуализация матрицы ошибок\n",
        "    plot_confusion_matrix(y_test, y_pred)"
      ]
    },
    {
      "cell_type": "code",
      "execution_count": 21,
      "metadata": {
        "id": "auLY6b2rtJZU"
      },
      "outputs": [],
      "source": [
        "# Загрузка данных\n",
        "y = checker[\"bomb_planted_True\"]\n",
        "X = checker.drop([\"bomb_planted_True\"], axis=1)"
      ]
    },
    {
      "cell_type": "code",
      "execution_count": 22,
      "metadata": {
        "id": "c729Dru3tbAI"
      },
      "outputs": [],
      "source": [
        "# Разделение на обучающий и тестовый наборы\n",
        "X_train, X_test, y_train, y_test = train_test_split(X, y, test_size=0.2, random_state=17 ) #random_state - фиксирует случайную выборку, чтобы результаты были воспроизводимы"
      ]
    },
    {
      "cell_type": "code",
      "execution_count": 23,
      "metadata": {
        "colab": {
          "base_uri": "https://localhost:8080/",
          "height": 680
        },
        "id": "K6YB6qDCuGSN",
        "outputId": "8e82746b-1a69-4189-a590-bfd589bf8eb2"
      },
      "outputs": [
        {
          "name": "stdout",
          "output_type": "stream",
          "text": [
            "Точность KNN:\n",
            "0.8456160241874527\n",
            "Отчёт о классификации:\n",
            "              precision    recall  f1-score   support\n",
            "\n",
            "       False       0.87      0.81      0.84      2620\n",
            "        True       0.82      0.89      0.85      2672\n",
            "\n",
            "    accuracy                           0.85      5292\n",
            "   macro avg       0.85      0.85      0.85      5292\n",
            "weighted avg       0.85      0.85      0.85      5292\n",
            "\n"
          ]
        },
        {
          "data": {
            "image/png": "[encoded data removed]",
            "text/plain": [
              "<Figure size 640x480 with 1 Axes>"
            ]
          },
          "metadata": {},
          "output_type": "display_data"
        }
      ],
      "source": [
        "# Оценка модели k-Nearest Neighbors\n",
        "evaluate_knn(X_train, X_test, y_train, y_test)"
      ]
    },
    {
      "cell_type": "markdown",
      "metadata": {
        "id": "jsBsua3Aunq-"
      },
      "source": [
        "# Реализуем LogisticRegression"
      ]
    },
    {
      "cell_type": "code",
      "execution_count": 24,
      "metadata": {
        "colab": {
          "base_uri": "https://localhost:8080/",
          "height": 663
        },
        "id": "bHQLyS6purnw",
        "outputId": "0b76d1e4-2e75-4381-8a08-988e5fcf3c48"
      },
      "outputs": [
        {
          "name": "stdout",
          "output_type": "stream",
          "text": [
            "Точность: 0.783068783068783\n",
            "Отчёт о классификации:\n",
            "              precision    recall  f1-score   support\n",
            "\n",
            "       False       0.74      0.86      0.80      2620\n",
            "        True       0.83      0.71      0.77      2672\n",
            "\n",
            "    accuracy                           0.78      5292\n",
            "   macro avg       0.79      0.78      0.78      5292\n",
            "weighted avg       0.79      0.78      0.78      5292\n",
            "\n"
          ]
        },
        {
          "data": {
            "image/png": "[encoded data removed]",
            "text/plain": [
              "<Figure size 640x480 with 1 Axes>"
            ]
          },
          "metadata": {},
          "output_type": "display_data"
        }
      ],
      "source": [
        "def logistic_regression_evaluation(X_train, X_test, y_train, y_test):\n",
        "    # Основная идея логистической регрессии заключается в том, чтобы прогнозировать вероятность принадлежности примера данных к одному из двух классов (бинарная классификация)\n",
        "    # Создание и обучение модели логистической регрессии\n",
        "    clf = LogisticRegression(random_state=0).fit(X_train, y_train)\n",
        "\n",
        "    # Получение предсказаний\n",
        "    y_pred = clf.predict(X_test)\n",
        "\n",
        "    # Вывод метрик\n",
        "    print(\"Точность:\", accuracy_score(y_test, y_pred))\n",
        "    print(\"Отчёт о классификации:\")\n",
        "    print(classification_report(y_test, y_pred))\n",
        "\n",
        "    # Вывод матрицы ошибок\n",
        "    plot_confusion_matrix(y_test, y_pred)\n",
        "\n",
        "logistic_regression_evaluation(X_train, X_test, y_train, y_test)"
      ]
    },
    {
      "cell_type": "markdown",
      "metadata": {
        "id": "nh1f7myxvSIG"
      },
      "source": [
        "# Реализуем Naive Bayes (Наивный байесовский классификатор)"
      ]
    },
    {
      "cell_type": "code",
      "execution_count": 25,
      "metadata": {
        "id": "2LQVj6dKvblb"
      },
      "outputs": [],
      "source": [
        "def evaluate_naive_bayes(X_train, X_test, y_train, y_test):\n",
        "    # Наивный байесовский классификатор (Naive Bayes Classifier) - это вероятностный метод классификации, основанный на теореме Байеса с предположением о независимости между признаками\n",
        "    # Создание и обучение модели Naive Bayes\n",
        "    classifier = GaussianNB()\n",
        "    classifier.fit(X_train, y_train)\n",
        "\n",
        "    # Получение предсказаний\n",
        "    y_pred = classifier.predict(X_test)\n",
        "\n",
        "    # Вывод точности\n",
        "    print(\"Точность Naive Bayes:\")\n",
        "    print(accuracy_score(y_test, y_pred))\n",
        "\n",
        "    # Вывод отчета о классификации\n",
        "    print(\"Отчёт о классификации:\")\n",
        "    print(classification_report(y_test, y_pred))\n",
        "\n",
        "    # Визуализация матрицы ошибок\n",
        "    plot_confusion_matrix(y_test, y_pred)"
      ]
    },
    {
      "cell_type": "code",
      "execution_count": 26,
      "metadata": {
        "colab": {
          "base_uri": "https://localhost:8080/",
          "height": 680
        },
        "id": "_DydlXqlvvgI",
        "outputId": "aeda8a8f-53da-4283-cc34-07c9888b5bc2"
      },
      "outputs": [
        {
          "name": "stdout",
          "output_type": "stream",
          "text": [
            "Точность Naive Bayes:\n",
            "0.9030612244897959\n",
            "Отчёт о классификации:\n",
            "              precision    recall  f1-score   support\n",
            "\n",
            "       False       0.92      0.88      0.90      2620\n",
            "        True       0.89      0.92      0.91      2672\n",
            "\n",
            "    accuracy                           0.90      5292\n",
            "   macro avg       0.90      0.90      0.90      5292\n",
            "weighted avg       0.90      0.90      0.90      5292\n",
            "\n"
          ]
        },
        {
          "data": {
            "image/png": "[encoded data removed]",
            "text/plain": [
              "<Figure size 640x480 with 1 Axes>"
            ]
          },
          "metadata": {},
          "output_type": "display_data"
        }
      ],
      "source": [
        "evaluate_naive_bayes(X_train, X_test, y_train, y_test)"
      ]
    },
    {
      "cell_type": "markdown",
      "metadata": {
        "id": "BGnI53dGwCHV"
      },
      "source": [
        "# Реализуем метод опорных векторов (SVM)"
      ]
    },
    {
      "cell_type": "code",
      "execution_count": 27,
      "metadata": {
        "id": "oL8HCnva0iBv"
      },
      "outputs": [],
      "source": [
        "svm_classifier_linear = SVC(kernel='linear').fit(X_train, y_train) #линйное ядро\n",
        "svm_classifier_rbf = SVC(kernel='rbf').fit(X_train, y_train) #радиально-базисное ядро\n",
        "svm_classifier_poly = SVC(kernel='poly').fit(X_train, y_train) #полиномиальное ядро"
      ]
    },
    {
      "cell_type": "code",
      "execution_count": 28,
      "metadata": {
        "colab": {
          "base_uri": "https://localhost:8080/",
          "height": 472
        },
        "id": "Bgi_o3NutfGa",
        "outputId": "c9470e8a-7790-4de8-a21d-950ff98908a2"
      },
      "outputs": [
        {
          "data": {
            "image/png": "[encoded data removed]",
            "text/plain": [
              "<Figure size 640x480 with 1 Axes>"
            ]
          },
          "metadata": {},
          "output_type": "display_data"
        }
      ],
      "source": [
        "plot_confusion_matrix(y_test, svm_classifier_linear.predict(X_test))"
      ]
    },
    {
      "cell_type": "code",
      "execution_count": 29,
      "metadata": {
        "colab": {
          "base_uri": "https://localhost:8080/",
          "height": 472
        },
        "id": "OtryYexCttBV",
        "outputId": "dfd544dd-7ad3-4f58-85ac-9560d6807667"
      },
      "outputs": [
        {
          "data": {
            "image/png": "[encoded data removed]",
            "text/plain": [
              "<Figure size 640x480 with 1 Axes>"
            ]
          },
          "metadata": {},
          "output_type": "display_data"
        }
      ],
      "source": [
        "plot_confusion_matrix(y_test, svm_classifier_rbf.predict(X_test))"
      ]
    },
    {
      "cell_type": "code",
      "execution_count": 30,
      "metadata": {
        "colab": {
          "base_uri": "https://localhost:8080/",
          "height": 472
        },
        "id": "1HGCjCPWt6BQ",
        "outputId": "5564505b-56bf-403b-ff34-c66401e37f1d"
      },
      "outputs": [
        {
          "data": {
            "image/png": "[encoded data removed]",
            "text/plain": [
              "<Figure size 640x480 with 1 Axes>"
            ]
          },
          "metadata": {},
          "output_type": "display_data"
        }
      ],
      "source": [
        "plot_confusion_matrix(y_test, svm_classifier_poly.predict(X_test))"
      ]
    },
    {
      "cell_type": "markdown",
      "metadata": {
        "id": "TMVzw6Ap1HZh"
      },
      "source": [
        "# Реализуем метрики Accuracy, Precision, Recall, F1"
      ]
    },
    {
      "cell_type": "code",
      "execution_count": 31,
      "metadata": {
        "id": "FWiUxY8F1Qmt"
      },
      "outputs": [],
      "source": [
        "knn = KNeighborsClassifier().fit(X_train, y_train)\n",
        "y_bin_knn_pred = knn.predict(X_test)\n",
        "def acc_score(y_true, y_pred):\n",
        "    \"\"\"\n",
        "    y_true: Настоящие метки классов.\n",
        "    y_pred: Предсказанные метки классов.\n",
        "\n",
        "    Возвращает:\n",
        "    Значение метрики Accuracy.\n",
        "    \"\"\"\n",
        "    correct = 0  # Инициализация счётчика правильных предсказаний\n",
        "    total = len(y_true)  # Получение общего числа предсказаний\n",
        "\n",
        "    # Итерация по каждой паре истинной и предсказанной меток\n",
        "    for true, pred in zip(y_true, y_pred):\n",
        "        if true == pred:\n",
        "            correct += 1  # Увеличение счётчика, если предсказание верное\n",
        "\n",
        "    # Вычисление точности: количество правильных предсказаний делённое на общее количество\n",
        "    accuracy = correct / total\n",
        "\n",
        "    return accuracy"
      ]
    },
    {
      "cell_type": "code",
      "execution_count": 32,
      "metadata": {
        "id": "v53AM9ax1SvE"
      },
      "outputs": [],
      "source": [
        "def precision(y_true, y_pred):\n",
        "    true_positives = 0 #действительно положительные\n",
        "    false_positives = 0 #ложно положительные\n",
        "\n",
        "    for true, pred in zip(y_true, y_pred):\n",
        "        if true == 1 and pred == 1:\n",
        "            true_positives += 1 #если модель правильно предсказаала\n",
        "        if true == 0 and pred == 1:\n",
        "            false_positives += 1 #если неправильно\n",
        "\n",
        "    if true_positives + false_positives == 0: #если модель не сделала ни одного положительного предсказания (защита от деления на ноль)\n",
        "        return 0\n",
        "\n",
        "    precision = true_positives / (true_positives + false_positives) #вычисление метрики точности (отношение найденных положительных примеров ко всем реально положительным)\n",
        "    return precision #проверка своей и эталонной"
      ]
    },
    {
      "cell_type": "code",
      "execution_count": 33,
      "metadata": {
        "id": "8tCE2cPi2dh8"
      },
      "outputs": [],
      "source": [
        "def recall(y_true, y_pred):\n",
        "    true_positives = 0\n",
        "    false_negatives = 0\n",
        "\n",
        "    for true, pred in zip(y_true, y_pred):\n",
        "        if true == 1 and pred == 1:\n",
        "            true_positives += 1\n",
        "        if true == 1 and pred == 0:\n",
        "            false_negatives += 1\n",
        "\n",
        "    if true_positives + false_negatives == 0: #если модель не сделала ни одного положительного предсказания (защита от деления на ноль)\n",
        "        return 0\n",
        "\n",
        "    recall = true_positives / (true_positives + false_negatives) #вычисление метрики полноты (отношение найденных положительных примеров ко всем реально положительным)\n",
        "    return recall"
      ]
    },
    {
      "cell_type": "code",
      "execution_count": 34,
      "metadata": {
        "id": "nrLEay6s2g0n"
      },
      "outputs": [],
      "source": [
        "def f1(y_true, y_pred):\n",
        "    precision1= precision(y_true, y_pred) #Сколько предсказаний модели являются релевантными?\n",
        "    recall1 = recall(y_true, y_pred) #Какую часть положительных примеров нашла модель?\n",
        "\n",
        "    if precision1 + recall1 == 0: #если модель не сделала ни одного положительного предсказания (защита от деления на ноль)\n",
        "        return 0\n",
        "\n",
        "    f1 = 2 * (precision1 * recall1) / (precision1 + recall1) #нахождение баланса между этими двумя метриками (максимальное значение - 1)\n",
        "    return f1"
      ]
    },
    {
      "cell_type": "code",
      "execution_count": 35,
      "metadata": {
        "colab": {
          "base_uri": "https://localhost:8080/"
        },
        "id": "FM9ilpQ72hM1",
        "outputId": "9ab7fc24-54e2-4797-f105-c5b5d37f4e9a"
      },
      "outputs": [
        {
          "name": "stdout",
          "output_type": "stream",
          "text": [
            "0.8456160241874527\n",
            "0.8226086956521739\n",
            "0.8851047904191617\n",
            "0.8527131782945736\n"
          ]
        }
      ],
      "source": [
        "print(acc_score(y_test, y_bin_knn_pred))\n",
        "print(precision(y_test, y_bin_knn_pred))\n",
        "print(recall(y_test, y_bin_knn_pred))\n",
        "print(f1(y_test, y_bin_knn_pred))"
      ]
    },
    {
      "cell_type": "code",
      "execution_count": 36,
      "metadata": {
        "colab": {
          "base_uri": "https://localhost:8080/"
        },
        "id": "qZdk9w19zQ6W",
        "outputId": "7a212254-c567-4d3a-c366-5c662015e6e9"
      },
      "outputs": [
        {
          "name": "stdout",
          "output_type": "stream",
          "text": [
            "0.8456160241874527\n",
            "0.8226086956521739\n",
            "0.8851047904191617\n",
            "0.8527131782945736\n"
          ]
        }
      ],
      "source": [
        "#какие значения выдают эталонные функции\n",
        "print(accuracy_score(y_test, y_bin_knn_pred)) #общая точность модели\n",
        "print(precision_score(y_test, y_bin_knn_pred)) #сколько положительных действительно положительных (предсказанных)\n",
        "print(recall_score(y_test, y_bin_knn_pred)) #сколько положительных действительно положительных (реальных)\n",
        "print(f1_score(y_test, y_bin_knn_pred)) #гармоническое среднее между precision и recall"
      ]
    },
    {
      "cell_type": "markdown",
      "metadata": {
        "id": "2BNzmie5hJp5"
      },
      "source": [
        "# Итоговая модель классификаторов"
      ]
    },
    {
      "cell_type": "code",
      "execution_count": 37,
      "metadata": {
        "id": "6Vi-51KSh0Kx"
      },
      "outputs": [],
      "source": [
        "classifiers = {\n",
        "    'SVC': SVC(),\n",
        "    'KNN classifier': KNeighborsClassifier(1), #с одним нельзя!!!! (оптимально - 5)\n",
        "    'LogisticRegression': LogisticRegression(solver='saga', penalty='l2', max_iter=800, C=0.01), #алгоритм оптимизации, регурялизация Lasso, макс. число итераций, коэфф. регурялизации\n",
        "    'GaussianNB': GaussianNB() #наивный байесовский классификатор\n",
        "}"
      ]
    },
    {
      "cell_type": "code",
      "execution_count": 38,
      "metadata": {
        "colab": {
          "base_uri": "https://localhost:8080/"
        },
        "id": "mjedlZCRh4DN",
        "outputId": "06389c7b-67f1-499a-e6fe-c4c432953b31"
      },
      "outputs": [
        {
          "name": "stdout",
          "output_type": "stream",
          "text": [
            "Accuracy (train) for SVC: 86.3% \n",
            "              precision    recall  f1-score   support\n",
            "\n",
            "       False       0.88      0.84      0.86      2620\n",
            "        True       0.85      0.89      0.87      2672\n",
            "\n",
            "    accuracy                           0.86      5292\n",
            "   macro avg       0.86      0.86      0.86      5292\n",
            "weighted avg       0.86      0.86      0.86      5292\n",
            "\n",
            "\n",
            "Accuracy (train) for KNN classifier: 85.0% \n",
            "              precision    recall  f1-score   support\n",
            "\n",
            "       False       0.86      0.83      0.85      2620\n",
            "        True       0.84      0.87      0.85      2672\n",
            "\n",
            "    accuracy                           0.85      5292\n",
            "   macro avg       0.85      0.85      0.85      5292\n",
            "weighted avg       0.85      0.85      0.85      5292\n",
            "\n",
            "\n",
            "Accuracy (train) for LogisticRegression: 77.6% \n",
            "              precision    recall  f1-score   support\n",
            "\n",
            "       False       0.72      0.89      0.80      2620\n",
            "        True       0.86      0.66      0.75      2672\n",
            "\n",
            "    accuracy                           0.78      5292\n",
            "   macro avg       0.79      0.78      0.77      5292\n",
            "weighted avg       0.79      0.78      0.77      5292\n",
            "\n",
            "\n",
            "Accuracy (train) for GaussianNB: 90.3% \n",
            "              precision    recall  f1-score   support\n",
            "\n",
            "       False       0.92      0.88      0.90      2620\n",
            "        True       0.89      0.92      0.91      2672\n",
            "\n",
            "    accuracy                           0.90      5292\n",
            "   macro avg       0.90      0.90      0.90      5292\n",
            "weighted avg       0.90      0.90      0.90      5292\n",
            "\n",
            "\n"
          ]
        }
      ],
      "source": [
        "n_classifiers = len(classifiers) #число моделей\n",
        "\n",
        "for index, (name, classifier) in enumerate(classifiers.items()): #цикл по всем моделям словаря\n",
        "    '''\n",
        "    name - название модели\n",
        "    classifier - объект модели\n",
        "    index - номер итерации цикла\n",
        "    classifiers.items() - метод, который возвращает пары (ключ, значение) для словаря\n",
        "    '''\n",
        "    classifier.fit(X_train, np.ravel(y_train)) #обучение модели на тренировочных данных\n",
        "\n",
        "    y_pred = classifier.predict(X_test) #предсказание модели на тестовых данных\n",
        "    accuracy = accuracy_score(y_test, y_pred) #доля правильных ответов\n",
        "    print(\"Accuracy (train) for %s: %0.1f%% \" % (name, accuracy * 100))\n",
        "    print(classification_report(y_test,y_pred))\n",
        "    print()"
      ]
    },
    {
      "cell_type": "markdown",
      "metadata": {},
      "source": [
        "# Реализуем ROC-AUC и ROC-CURVE"
      ]
    },
    {
      "cell_type": "code",
      "execution_count": 39,
      "metadata": {},
      "outputs": [],
      "source": [
        "def roc_auc(y_true, y_pred_proba):\n",
        "\n",
        "    # Вычисляем координаты ROС\n",
        "    fpr, tpr, _ = roc_curve(y_true, y_pred_proba)\n",
        "    \n",
        "    # Вычисляем разности по оси X (fpr)\n",
        "    fpr_differences = np.diff(fpr)\n",
        "    \n",
        "    # Вычисляем среднюю величину TPR на каждом шаге\n",
        "    tpr_averages = (tpr[:-1] + tpr[1:]) / 2\n",
        "    \n",
        "    # Вычисляем произведения разностей на средние значения\n",
        "    tpr_differences_prod = fpr_differences * tpr_averages\n",
        "        \n",
        "    # Суммируем произведения\n",
        "    auc_roc = np.sum(tpr_differences_prod)\n",
        "\n",
        "    plt.plot(fpr, tpr, label='ROC')\n",
        "    plt.xlabel('False Positive Rate')\n",
        "    plt.ylabel('True Positive Rate')\n",
        "    plt.legend(loc=4)\n",
        "    plt.show()\n",
        "\n",
        "    return auc_roc"
      ]
    },
    {
      "cell_type": "code",
      "execution_count": 40,
      "metadata": {},
      "outputs": [
        {
          "name": "stdout",
          "output_type": "stream",
          "text": [
            "accuracy:  0.8456160241874527\n",
            "precision:  0.8226086956521739\n",
            "recall:  0.8851047904191617\n",
            "f1_scorey:  0.8527131782945736\n"
          ]
        },
        {
          "data": {
            "image/png": "[encoded data removed]",
            "text/plain": [
              "<Figure size 640x480 with 1 Axes>"
            ]
          },
          "metadata": {},
          "output_type": "display_data"
        },
        {
          "name": "stdout",
          "output_type": "stream",
          "text": [
            "roc auc:  0.8452241509347718\n"
          ]
        }
      ],
      "source": [
        "model_knn = KNeighborsClassifier().fit(X_train, y_train)\n",
        "prediction = model_knn.predict(X_test)\n",
        "print(\"accuracy: \",acc_score(y_test, prediction))\n",
        "print(\"precision: \",precision(y_test, prediction))\n",
        "print(\"recall: \",recall(y_test, prediction))\n",
        "print(\"f1_scorey: \",f1(y_test, prediction))\n",
        "print(\"roc auc: \",roc_auc(y_test, prediction))"
      ]
    }
  ],
  "metadata": {
    "colab": {
      "provenance": []
    },
    "kernelspec": {
      "display_name": "Python 3",
      "name": "python3"
    },
    "language_info": {
      "codemirror_mode": {
        "name": "ipython",
        "version": 3
      },
      "file_extension": ".py",
      "mimetype": "text/x-python",
      "name": "python",
      "nbconvert_exporter": "python",
      "pygments_lexer": "ipython3",
      "version": "3.11.5"
    }
  },
  "nbformat": 4,
  "nbformat_minor": 0
}
