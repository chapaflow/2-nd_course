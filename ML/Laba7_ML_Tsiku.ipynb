{
  "cells": [
    {
      "cell_type": "markdown",
      "metadata": {
        "id": "ddxaTeBRsAcZ"
      },
      "source": [
        "### Лабораторная работа №7. \"Полносвязные нейронные сети (многослойный персептрон). Решение задач регрессии и классификации\"\n",
        "\n",
        " Задание №1.\n",
        "\n",
        "Решить задачи регрессии и классификации на данных в соответствии с Вашим индивидуальным вариантом (см. Лаб.работы №3, 4), используя полносвязные НС; реализовать НС посредством API Keras и фреймворка TensorFlow; оценить качество полученных моделей с помощью метрик.\n"
      ]
    },
    {
      "cell_type": "code",
      "execution_count": 1,
      "metadata": {
        "colab": {
          "base_uri": "https://localhost:8080/"
        },
        "id": "xQ9oZ1rgsKFE",
        "outputId": "fd85c679-6fde-4695-ad66-498f609252a8"
      },
      "outputs": [
        {
          "name": "stdout",
          "output_type": "stream",
          "text": [
            "Requirement already satisfied: tensorflow in c:\\users\\бумбурурик)\\appdata\\local\\programs\\python\\python311\\lib\\site-packages (2.15.0)\n",
            "Requirement already satisfied: tensorflow-intel==2.15.0 in c:\\users\\бумбурурик)\\appdata\\local\\programs\\python\\python311\\lib\\site-packages (from tensorflow) (2.15.0)\n",
            "Requirement already satisfied: absl-py>=1.0.0 in c:\\users\\бумбурурик)\\appdata\\local\\programs\\python\\python311\\lib\\site-packages (from tensorflow-intel==2.15.0->tensorflow) (2.0.0)\n",
            "Requirement already satisfied: astunparse>=1.6.0 in c:\\users\\бумбурурик)\\appdata\\local\\programs\\python\\python311\\lib\\site-packages (from tensorflow-intel==2.15.0->tensorflow) (1.6.3)\n",
            "Requirement already satisfied: flatbuffers>=23.5.26 in c:\\users\\бумбурурик)\\appdata\\local\\programs\\python\\python311\\lib\\site-packages (from tensorflow-intel==2.15.0->tensorflow) (23.5.26)\n",
            "Requirement already satisfied: gast!=0.5.0,!=0.5.1,!=0.5.2,>=0.2.1 in c:\\users\\бумбурурик)\\appdata\\local\\programs\\python\\python311\\lib\\site-packages (from tensorflow-intel==2.15.0->tensorflow) (0.5.4)\n",
            "Requirement already satisfied: google-pasta>=0.1.1 in c:\\users\\бумбурурик)\\appdata\\local\\programs\\python\\python311\\lib\\site-packages (from tensorflow-intel==2.15.0->tensorflow) (0.2.0)\n",
            "Requirement already satisfied: h5py>=2.9.0 in c:\\users\\бумбурурик)\\appdata\\local\\programs\\python\\python311\\lib\\site-packages (from tensorflow-intel==2.15.0->tensorflow) (3.10.0)\n",
            "Requirement already satisfied: libclang>=13.0.0 in c:\\users\\бумбурурик)\\appdata\\local\\programs\\python\\python311\\lib\\site-packages (from tensorflow-intel==2.15.0->tensorflow) (16.0.6)\n",
            "Requirement already satisfied: ml-dtypes~=0.2.0 in c:\\users\\бумбурурик)\\appdata\\local\\programs\\python\\python311\\lib\\site-packages (from tensorflow-intel==2.15.0->tensorflow) (0.2.0)\n",
            "Requirement already satisfied: numpy<2.0.0,>=1.23.5 in c:\\users\\бумбурурик)\\appdata\\local\\programs\\python\\python311\\lib\\site-packages (from tensorflow-intel==2.15.0->tensorflow) (1.25.2)\n",
            "Requirement already satisfied: opt-einsum>=2.3.2 in c:\\users\\бумбурурик)\\appdata\\local\\programs\\python\\python311\\lib\\site-packages (from tensorflow-intel==2.15.0->tensorflow) (3.3.0)\n",
            "Requirement already satisfied: packaging in c:\\users\\бумбурурик)\\appdata\\roaming\\python\\python311\\site-packages (from tensorflow-intel==2.15.0->tensorflow) (23.2)\n",
            "Requirement already satisfied: protobuf!=4.21.0,!=4.21.1,!=4.21.2,!=4.21.3,!=4.21.4,!=4.21.5,<5.0.0dev,>=3.20.3 in c:\\users\\бумбурурик)\\appdata\\local\\programs\\python\\python311\\lib\\site-packages (from tensorflow-intel==2.15.0->tensorflow) (4.23.4)\n",
            "Requirement already satisfied: setuptools in c:\\users\\бумбурурик)\\appdata\\local\\programs\\python\\python311\\lib\\site-packages (from tensorflow-intel==2.15.0->tensorflow) (65.5.0)\n",
            "Requirement already satisfied: six>=1.12.0 in c:\\users\\бумбурурик)\\appdata\\roaming\\python\\python311\\site-packages (from tensorflow-intel==2.15.0->tensorflow) (1.16.0)\n",
            "Requirement already satisfied: termcolor>=1.1.0 in c:\\users\\бумбурурик)\\appdata\\local\\programs\\python\\python311\\lib\\site-packages (from tensorflow-intel==2.15.0->tensorflow) (2.4.0)\n",
            "Requirement already satisfied: typing-extensions>=3.6.6 in c:\\users\\бумбурурик)\\appdata\\local\\programs\\python\\python311\\lib\\site-packages (from tensorflow-intel==2.15.0->tensorflow) (4.4.0)\n",
            "Requirement already satisfied: wrapt<1.15,>=1.11.0 in c:\\users\\бумбурурик)\\appdata\\local\\programs\\python\\python311\\lib\\site-packages (from tensorflow-intel==2.15.0->tensorflow) (1.14.1)\n",
            "Requirement already satisfied: tensorflow-io-gcs-filesystem>=0.23.1 in c:\\users\\бумбурурик)\\appdata\\local\\programs\\python\\python311\\lib\\site-packages (from tensorflow-intel==2.15.0->tensorflow) (0.31.0)\n",
            "Requirement already satisfied: grpcio<2.0,>=1.24.3 in c:\\users\\бумбурурик)\\appdata\\local\\programs\\python\\python311\\lib\\site-packages (from tensorflow-intel==2.15.0->tensorflow) (1.60.0)\n",
            "Requirement already satisfied: tensorboard<2.16,>=2.15 in c:\\users\\бумбурурик)\\appdata\\local\\programs\\python\\python311\\lib\\site-packages (from tensorflow-intel==2.15.0->tensorflow) (2.15.1)\n",
            "Requirement already satisfied: tensorflow-estimator<2.16,>=2.15.0 in c:\\users\\бумбурурик)\\appdata\\local\\programs\\python\\python311\\lib\\site-packages (from tensorflow-intel==2.15.0->tensorflow) (2.15.0)\n",
            "Requirement already satisfied: keras<2.16,>=2.15.0 in c:\\users\\бумбурурик)\\appdata\\local\\programs\\python\\python311\\lib\\site-packages (from tensorflow-intel==2.15.0->tensorflow) (2.15.0)\n",
            "Requirement already satisfied: wheel<1.0,>=0.23.0 in c:\\users\\бумбурурик)\\appdata\\local\\programs\\python\\python311\\lib\\site-packages (from astunparse>=1.6.0->tensorflow-intel==2.15.0->tensorflow) (0.42.0)\n",
            "Requirement already satisfied: google-auth<3,>=1.6.3 in c:\\users\\бумбурурик)\\appdata\\local\\programs\\python\\python311\\lib\\site-packages (from tensorboard<2.16,>=2.15->tensorflow-intel==2.15.0->tensorflow) (2.26.1)\n",
            "Requirement already satisfied: google-auth-oauthlib<2,>=0.5 in c:\\users\\бумбурурик)\\appdata\\local\\programs\\python\\python311\\lib\\site-packages (from tensorboard<2.16,>=2.15->tensorflow-intel==2.15.0->tensorflow) (1.2.0)\n",
            "Requirement already satisfied: markdown>=2.6.8 in c:\\users\\бумбурурик)\\appdata\\local\\programs\\python\\python311\\lib\\site-packages (from tensorboard<2.16,>=2.15->tensorflow-intel==2.15.0->tensorflow) (3.5.1)\n",
            "Requirement already satisfied: requests<3,>=2.21.0 in c:\\users\\бумбурурик)\\appdata\\local\\programs\\python\\python311\\lib\\site-packages (from tensorboard<2.16,>=2.15->tensorflow-intel==2.15.0->tensorflow) (2.31.0)\n",
            "Requirement already satisfied: tensorboard-data-server<0.8.0,>=0.7.0 in c:\\users\\бумбурурик)\\appdata\\local\\programs\\python\\python311\\lib\\site-packages (from tensorboard<2.16,>=2.15->tensorflow-intel==2.15.0->tensorflow) (0.7.2)\n",
            "Requirement already satisfied: werkzeug>=1.0.1 in c:\\users\\бумбурурик)\\appdata\\local\\programs\\python\\python311\\lib\\site-packages (from tensorboard<2.16,>=2.15->tensorflow-intel==2.15.0->tensorflow) (3.0.1)\n",
            "Requirement already satisfied: cachetools<6.0,>=2.0.0 in c:\\users\\бумбурурик)\\appdata\\local\\programs\\python\\python311\\lib\\site-packages (from google-auth<3,>=1.6.3->tensorboard<2.16,>=2.15->tensorflow-intel==2.15.0->tensorflow) (5.3.2)\n",
            "Requirement already satisfied: pyasn1-modules>=0.2.1 in c:\\users\\бумбурурик)\\appdata\\local\\programs\\python\\python311\\lib\\site-packages (from google-auth<3,>=1.6.3->tensorboard<2.16,>=2.15->tensorflow-intel==2.15.0->tensorflow) (0.3.0)\n",
            "Requirement already satisfied: rsa<5,>=3.1.4 in c:\\users\\бумбурурик)\\appdata\\local\\programs\\python\\python311\\lib\\site-packages (from google-auth<3,>=1.6.3->tensorboard<2.16,>=2.15->tensorflow-intel==2.15.0->tensorflow) (4.9)\n",
            "Requirement already satisfied: requests-oauthlib>=0.7.0 in c:\\users\\бумбурурик)\\appdata\\local\\programs\\python\\python311\\lib\\site-packages (from google-auth-oauthlib<2,>=0.5->tensorboard<2.16,>=2.15->tensorflow-intel==2.15.0->tensorflow) (1.3.1)\n",
            "Requirement already satisfied: charset-normalizer<4,>=2 in c:\\users\\бумбурурик)\\appdata\\local\\programs\\python\\python311\\lib\\site-packages (from requests<3,>=2.21.0->tensorboard<2.16,>=2.15->tensorflow-intel==2.15.0->tensorflow) (2.1.1)\n",
            "Requirement already satisfied: idna<4,>=2.5 in c:\\users\\бумбурурик)\\appdata\\local\\programs\\python\\python311\\lib\\site-packages (from requests<3,>=2.21.0->tensorboard<2.16,>=2.15->tensorflow-intel==2.15.0->tensorflow) (3.4)\n",
            "Requirement already satisfied: urllib3<3,>=1.21.1 in c:\\users\\бумбурурик)\\appdata\\local\\programs\\python\\python311\\lib\\site-packages (from requests<3,>=2.21.0->tensorboard<2.16,>=2.15->tensorflow-intel==2.15.0->tensorflow) (1.26.13)\n",
            "Requirement already satisfied: certifi>=2017.4.17 in c:\\users\\бумбурурик)\\appdata\\local\\programs\\python\\python311\\lib\\site-packages (from requests<3,>=2.21.0->tensorboard<2.16,>=2.15->tensorflow-intel==2.15.0->tensorflow) (2022.12.7)\n",
            "Requirement already satisfied: MarkupSafe>=2.1.1 in c:\\users\\бумбурурик)\\appdata\\local\\programs\\python\\python311\\lib\\site-packages (from werkzeug>=1.0.1->tensorboard<2.16,>=2.15->tensorflow-intel==2.15.0->tensorflow) (2.1.2)\n",
            "Requirement already satisfied: pyasn1<0.6.0,>=0.4.6 in c:\\users\\бумбурурик)\\appdata\\local\\programs\\python\\python311\\lib\\site-packages (from pyasn1-modules>=0.2.1->google-auth<3,>=1.6.3->tensorboard<2.16,>=2.15->tensorflow-intel==2.15.0->tensorflow) (0.5.1)\n",
            "Requirement already satisfied: oauthlib>=3.0.0 in c:\\users\\бумбурурик)\\appdata\\local\\programs\\python\\python311\\lib\\site-packages (from requests-oauthlib>=0.7.0->google-auth-oauthlib<2,>=0.5->tensorboard<2.16,>=2.15->tensorflow-intel==2.15.0->tensorflow) (3.2.2)\n"
          ]
        }
      ],
      "source": [
        "!pip install tensorflow"
      ]
    },
    {
      "cell_type": "code",
      "execution_count": 2,
      "metadata": {
        "colab": {
          "base_uri": "https://localhost:8080/"
        },
        "id": "RrqZbuP0srTp",
        "outputId": "884c1c23-9c4d-46fc-afca-6c6819f019eb"
      },
      "outputs": [
        {
          "name": "stdout",
          "output_type": "stream",
          "text": [
            "Requirement already satisfied: keras in c:\\users\\бумбурурик)\\appdata\\local\\programs\\python\\python311\\lib\\site-packages (2.15.0)\n"
          ]
        }
      ],
      "source": [
        "!pip install keras"
      ]
    },
    {
      "cell_type": "code",
      "execution_count": 3,
      "metadata": {
        "id": "5X-ud0FgtL0q"
      },
      "outputs": [
        {
          "name": "stdout",
          "output_type": "stream",
          "text": [
            "WARNING:tensorflow:From c:\\Users\\бумбурурик)\\AppData\\Local\\Programs\\Python\\Python311\\Lib\\site-packages\\keras\\src\\losses.py:2976: The name tf.losses.sparse_softmax_cross_entropy is deprecated. Please use tf.compat.v1.losses.sparse_softmax_cross_entropy instead.\n",
            "\n"
          ]
        }
      ],
      "source": [
        "import pandas as pd\n",
        "import numpy as np\n",
        "import tensorflow as tf\n",
        "from tensorflow import keras\n",
        "from keras import layers\n",
        "from math import sqrt\n",
        "from sklearn.metrics import mean_squared_error, mean_absolute_error\n",
        "from sklearn.metrics import confusion_matrix, classification_report\n",
        "from sklearn.model_selection import train_test_split\n",
        "from sklearn.metrics import accuracy_score, mean_squared_error\n",
        "from sklearn.preprocessing import StandardScaler\n",
        "from sklearn.metrics import r2_score\n",
        "import warnings\n",
        "\n",
        "warnings.filterwarnings(\"ignore\")"
      ]
    },
    {
      "cell_type": "code",
      "execution_count": 4,
      "metadata": {
        "id": "H8WMeUx-ttx4"
      },
      "outputs": [],
      "source": [
        "data_reg = pd.read_csv('csgo.csv')\n",
        "data_cls = pd.read_csv('wines.csv')"
      ]
    },
    {
      "cell_type": "code",
      "execution_count": 5,
      "metadata": {
        "colab": {
          "base_uri": "https://localhost:8080/",
          "height": 243
        },
        "id": "gBbFLNhOuDCB",
        "outputId": "820b899c-7a31-4c67-ec49-05fe89f85a80"
      },
      "outputs": [
        {
          "data": {
            "text/html": [
              "<div>\n",
              "<style scoped>\n",
              "    .dataframe tbody tr th:only-of-type {\n",
              "        vertical-align: middle;\n",
              "    }\n",
              "\n",
              "    .dataframe tbody tr th {\n",
              "        vertical-align: top;\n",
              "    }\n",
              "\n",
              "    .dataframe thead th {\n",
              "        text-align: right;\n",
              "    }\n",
              "</style>\n",
              "<table border=\"1\" class=\"dataframe\">\n",
              "  <thead>\n",
              "    <tr style=\"text-align: right;\">\n",
              "      <th></th>\n",
              "      <th>Unnamed: 0</th>\n",
              "      <th>time_left</th>\n",
              "      <th>ct_score</th>\n",
              "      <th>t_score</th>\n",
              "      <th>ct_health</th>\n",
              "      <th>t_health</th>\n",
              "      <th>ct_armor</th>\n",
              "      <th>t_armor</th>\n",
              "      <th>ct_money</th>\n",
              "      <th>t_money</th>\n",
              "      <th>ct_helmets</th>\n",
              "      <th>t_helmets</th>\n",
              "      <th>ct_defuse_kits</th>\n",
              "      <th>ct_players_alive</th>\n",
              "      <th>t_players_alive</th>\n",
              "      <th>bomb_planted_True</th>\n",
              "    </tr>\n",
              "  </thead>\n",
              "  <tbody>\n",
              "    <tr>\n",
              "      <th>0</th>\n",
              "      <td>20</td>\n",
              "      <td>29.27</td>\n",
              "      <td>2.0</td>\n",
              "      <td>1.0</td>\n",
              "      <td>379.0</td>\n",
              "      <td>99.0</td>\n",
              "      <td>487.0</td>\n",
              "      <td>93.0</td>\n",
              "      <td>2050.0</td>\n",
              "      <td>100.0</td>\n",
              "      <td>0.0</td>\n",
              "      <td>1.0</td>\n",
              "      <td>0.0</td>\n",
              "      <td>5.0</td>\n",
              "      <td>1.0</td>\n",
              "      <td>1</td>\n",
              "    </tr>\n",
              "    <tr>\n",
              "      <th>1</th>\n",
              "      <td>26</td>\n",
              "      <td>22.70</td>\n",
              "      <td>3.0</td>\n",
              "      <td>1.0</td>\n",
              "      <td>100.0</td>\n",
              "      <td>149.0</td>\n",
              "      <td>100.0</td>\n",
              "      <td>175.0</td>\n",
              "      <td>1050.0</td>\n",
              "      <td>1250.0</td>\n",
              "      <td>1.0</td>\n",
              "      <td>2.0</td>\n",
              "      <td>1.0</td>\n",
              "      <td>1.0</td>\n",
              "      <td>2.0</td>\n",
              "      <td>1</td>\n",
              "    </tr>\n",
              "    <tr>\n",
              "      <th>2</th>\n",
              "      <td>33</td>\n",
              "      <td>37.38</td>\n",
              "      <td>3.0</td>\n",
              "      <td>2.0</td>\n",
              "      <td>300.0</td>\n",
              "      <td>414.0</td>\n",
              "      <td>300.0</td>\n",
              "      <td>441.0</td>\n",
              "      <td>250.0</td>\n",
              "      <td>6300.0</td>\n",
              "      <td>1.0</td>\n",
              "      <td>5.0</td>\n",
              "      <td>0.0</td>\n",
              "      <td>3.0</td>\n",
              "      <td>5.0</td>\n",
              "      <td>1</td>\n",
              "    </tr>\n",
              "    <tr>\n",
              "      <th>3</th>\n",
              "      <td>34</td>\n",
              "      <td>17.38</td>\n",
              "      <td>3.0</td>\n",
              "      <td>2.0</td>\n",
              "      <td>300.0</td>\n",
              "      <td>414.0</td>\n",
              "      <td>300.0</td>\n",
              "      <td>441.0</td>\n",
              "      <td>250.0</td>\n",
              "      <td>6300.0</td>\n",
              "      <td>1.0</td>\n",
              "      <td>5.0</td>\n",
              "      <td>0.0</td>\n",
              "      <td>3.0</td>\n",
              "      <td>5.0</td>\n",
              "      <td>1</td>\n",
              "    </tr>\n",
              "    <tr>\n",
              "      <th>4</th>\n",
              "      <td>39</td>\n",
              "      <td>24.84</td>\n",
              "      <td>3.0</td>\n",
              "      <td>3.0</td>\n",
              "      <td>67.0</td>\n",
              "      <td>0.0</td>\n",
              "      <td>96.0</td>\n",
              "      <td>0.0</td>\n",
              "      <td>2150.0</td>\n",
              "      <td>0.0</td>\n",
              "      <td>0.0</td>\n",
              "      <td>0.0</td>\n",
              "      <td>0.0</td>\n",
              "      <td>1.0</td>\n",
              "      <td>0.0</td>\n",
              "      <td>1</td>\n",
              "    </tr>\n",
              "  </tbody>\n",
              "</table>\n",
              "</div>"
            ],
            "text/plain": [
              "   Unnamed: 0  time_left  ct_score  t_score  ct_health  t_health  ct_armor  \\\n",
              "0          20      29.27       2.0      1.0      379.0      99.0     487.0   \n",
              "1          26      22.70       3.0      1.0      100.0     149.0     100.0   \n",
              "2          33      37.38       3.0      2.0      300.0     414.0     300.0   \n",
              "3          34      17.38       3.0      2.0      300.0     414.0     300.0   \n",
              "4          39      24.84       3.0      3.0       67.0       0.0      96.0   \n",
              "\n",
              "   t_armor  ct_money  t_money  ct_helmets  t_helmets  ct_defuse_kits  \\\n",
              "0     93.0    2050.0    100.0         0.0        1.0             0.0   \n",
              "1    175.0    1050.0   1250.0         1.0        2.0             1.0   \n",
              "2    441.0     250.0   6300.0         1.0        5.0             0.0   \n",
              "3    441.0     250.0   6300.0         1.0        5.0             0.0   \n",
              "4      0.0    2150.0      0.0         0.0        0.0             0.0   \n",
              "\n",
              "   ct_players_alive  t_players_alive  bomb_planted_True  \n",
              "0               5.0              1.0                  1  \n",
              "1               1.0              2.0                  1  \n",
              "2               3.0              5.0                  1  \n",
              "3               3.0              5.0                  1  \n",
              "4               1.0              0.0                  1  "
            ]
          },
          "execution_count": 5,
          "metadata": {},
          "output_type": "execute_result"
        }
      ],
      "source": [
        "data_reg.head(5)"
      ]
    },
    {
      "cell_type": "code",
      "execution_count": 6,
      "metadata": {
        "colab": {
          "base_uri": "https://localhost:8080/",
          "height": 226
        },
        "id": "w6pImu7buHaV",
        "outputId": "6a20b975-c563-47f7-d903-f22e4877b08e"
      },
      "outputs": [
        {
          "data": {
            "text/html": [
              "<div>\n",
              "<style scoped>\n",
              "    .dataframe tbody tr th:only-of-type {\n",
              "        vertical-align: middle;\n",
              "    }\n",
              "\n",
              "    .dataframe tbody tr th {\n",
              "        vertical-align: top;\n",
              "    }\n",
              "\n",
              "    .dataframe thead th {\n",
              "        text-align: right;\n",
              "    }\n",
              "</style>\n",
              "<table border=\"1\" class=\"dataframe\">\n",
              "  <thead>\n",
              "    <tr style=\"text-align: right;\">\n",
              "      <th></th>\n",
              "      <th>time_left</th>\n",
              "      <th>ct_score</th>\n",
              "      <th>t_score</th>\n",
              "      <th>ct_health</th>\n",
              "      <th>t_health</th>\n",
              "      <th>ct_armor</th>\n",
              "      <th>t_armor</th>\n",
              "      <th>ct_money</th>\n",
              "      <th>t_money</th>\n",
              "      <th>ct_helmets</th>\n",
              "      <th>t_helmets</th>\n",
              "      <th>ct_defuse_kits</th>\n",
              "      <th>ct_players_alive</th>\n",
              "      <th>t_players_alive</th>\n",
              "      <th>bomb_planted_True</th>\n",
              "    </tr>\n",
              "  </thead>\n",
              "  <tbody>\n",
              "    <tr>\n",
              "      <th>0</th>\n",
              "      <td>29.27</td>\n",
              "      <td>2.0</td>\n",
              "      <td>1.0</td>\n",
              "      <td>379.0</td>\n",
              "      <td>99.0</td>\n",
              "      <td>487.0</td>\n",
              "      <td>93.0</td>\n",
              "      <td>2050.0</td>\n",
              "      <td>100.0</td>\n",
              "      <td>0.0</td>\n",
              "      <td>1.0</td>\n",
              "      <td>0.0</td>\n",
              "      <td>5.0</td>\n",
              "      <td>1.0</td>\n",
              "      <td>1</td>\n",
              "    </tr>\n",
              "    <tr>\n",
              "      <th>1</th>\n",
              "      <td>22.70</td>\n",
              "      <td>3.0</td>\n",
              "      <td>1.0</td>\n",
              "      <td>100.0</td>\n",
              "      <td>149.0</td>\n",
              "      <td>100.0</td>\n",
              "      <td>175.0</td>\n",
              "      <td>1050.0</td>\n",
              "      <td>1250.0</td>\n",
              "      <td>1.0</td>\n",
              "      <td>2.0</td>\n",
              "      <td>1.0</td>\n",
              "      <td>1.0</td>\n",
              "      <td>2.0</td>\n",
              "      <td>1</td>\n",
              "    </tr>\n",
              "    <tr>\n",
              "      <th>2</th>\n",
              "      <td>37.38</td>\n",
              "      <td>3.0</td>\n",
              "      <td>2.0</td>\n",
              "      <td>300.0</td>\n",
              "      <td>414.0</td>\n",
              "      <td>300.0</td>\n",
              "      <td>441.0</td>\n",
              "      <td>250.0</td>\n",
              "      <td>6300.0</td>\n",
              "      <td>1.0</td>\n",
              "      <td>5.0</td>\n",
              "      <td>0.0</td>\n",
              "      <td>3.0</td>\n",
              "      <td>5.0</td>\n",
              "      <td>1</td>\n",
              "    </tr>\n",
              "    <tr>\n",
              "      <th>3</th>\n",
              "      <td>17.38</td>\n",
              "      <td>3.0</td>\n",
              "      <td>2.0</td>\n",
              "      <td>300.0</td>\n",
              "      <td>414.0</td>\n",
              "      <td>300.0</td>\n",
              "      <td>441.0</td>\n",
              "      <td>250.0</td>\n",
              "      <td>6300.0</td>\n",
              "      <td>1.0</td>\n",
              "      <td>5.0</td>\n",
              "      <td>0.0</td>\n",
              "      <td>3.0</td>\n",
              "      <td>5.0</td>\n",
              "      <td>1</td>\n",
              "    </tr>\n",
              "    <tr>\n",
              "      <th>4</th>\n",
              "      <td>24.84</td>\n",
              "      <td>3.0</td>\n",
              "      <td>3.0</td>\n",
              "      <td>67.0</td>\n",
              "      <td>0.0</td>\n",
              "      <td>96.0</td>\n",
              "      <td>0.0</td>\n",
              "      <td>2150.0</td>\n",
              "      <td>0.0</td>\n",
              "      <td>0.0</td>\n",
              "      <td>0.0</td>\n",
              "      <td>0.0</td>\n",
              "      <td>1.0</td>\n",
              "      <td>0.0</td>\n",
              "      <td>1</td>\n",
              "    </tr>\n",
              "  </tbody>\n",
              "</table>\n",
              "</div>"
            ],
            "text/plain": [
              "   time_left  ct_score  t_score  ct_health  t_health  ct_armor  t_armor  \\\n",
              "0      29.27       2.0      1.0      379.0      99.0     487.0     93.0   \n",
              "1      22.70       3.0      1.0      100.0     149.0     100.0    175.0   \n",
              "2      37.38       3.0      2.0      300.0     414.0     300.0    441.0   \n",
              "3      17.38       3.0      2.0      300.0     414.0     300.0    441.0   \n",
              "4      24.84       3.0      3.0       67.0       0.0      96.0      0.0   \n",
              "\n",
              "   ct_money  t_money  ct_helmets  t_helmets  ct_defuse_kits  ct_players_alive  \\\n",
              "0    2050.0    100.0         0.0        1.0             0.0               5.0   \n",
              "1    1050.0   1250.0         1.0        2.0             1.0               1.0   \n",
              "2     250.0   6300.0         1.0        5.0             0.0               3.0   \n",
              "3     250.0   6300.0         1.0        5.0             0.0               3.0   \n",
              "4    2150.0      0.0         0.0        0.0             0.0               1.0   \n",
              "\n",
              "   t_players_alive  bomb_planted_True  \n",
              "0              1.0                  1  \n",
              "1              2.0                  1  \n",
              "2              5.0                  1  \n",
              "3              5.0                  1  \n",
              "4              0.0                  1  "
            ]
          },
          "execution_count": 6,
          "metadata": {},
          "output_type": "execute_result"
        }
      ],
      "source": [
        "data_reg = data_reg.drop(['Unnamed: 0'], axis=1)\n",
        "data_reg.head(5)"
      ]
    },
    {
      "cell_type": "code",
      "execution_count": 7,
      "metadata": {
        "colab": {
          "base_uri": "https://localhost:8080/",
          "height": 206
        },
        "id": "UNfh6irOuwT0",
        "outputId": "66b79b10-e03e-42ec-8ae3-9fc0f44009cb"
      },
      "outputs": [
        {
          "data": {
            "text/html": [
              "<div>\n",
              "<style scoped>\n",
              "    .dataframe tbody tr th:only-of-type {\n",
              "        vertical-align: middle;\n",
              "    }\n",
              "\n",
              "    .dataframe tbody tr th {\n",
              "        vertical-align: top;\n",
              "    }\n",
              "\n",
              "    .dataframe thead th {\n",
              "        text-align: right;\n",
              "    }\n",
              "</style>\n",
              "<table border=\"1\" class=\"dataframe\">\n",
              "  <thead>\n",
              "    <tr style=\"text-align: right;\">\n",
              "      <th></th>\n",
              "      <th>Unnamed: 0</th>\n",
              "      <th>fixed acidity</th>\n",
              "      <th>volatile acidity</th>\n",
              "      <th>citric acid</th>\n",
              "      <th>residual sugar</th>\n",
              "      <th>chlorides</th>\n",
              "      <th>free sulfur dioxide</th>\n",
              "      <th>density</th>\n",
              "      <th>pH</th>\n",
              "      <th>sulphates</th>\n",
              "      <th>alcohol</th>\n",
              "      <th>quality</th>\n",
              "    </tr>\n",
              "  </thead>\n",
              "  <tbody>\n",
              "    <tr>\n",
              "      <th>0</th>\n",
              "      <td>1</td>\n",
              "      <td>6.3</td>\n",
              "      <td>0.30</td>\n",
              "      <td>0.34</td>\n",
              "      <td>1.6</td>\n",
              "      <td>0.049</td>\n",
              "      <td>14.0</td>\n",
              "      <td>0.9940</td>\n",
              "      <td>3.30</td>\n",
              "      <td>0.49</td>\n",
              "      <td>9.5</td>\n",
              "      <td>6</td>\n",
              "    </tr>\n",
              "    <tr>\n",
              "      <th>1</th>\n",
              "      <td>2</td>\n",
              "      <td>8.1</td>\n",
              "      <td>0.28</td>\n",
              "      <td>0.40</td>\n",
              "      <td>6.9</td>\n",
              "      <td>0.050</td>\n",
              "      <td>30.0</td>\n",
              "      <td>0.9951</td>\n",
              "      <td>3.26</td>\n",
              "      <td>0.44</td>\n",
              "      <td>10.1</td>\n",
              "      <td>6</td>\n",
              "    </tr>\n",
              "    <tr>\n",
              "      <th>2</th>\n",
              "      <td>3</td>\n",
              "      <td>7.2</td>\n",
              "      <td>0.23</td>\n",
              "      <td>0.32</td>\n",
              "      <td>8.5</td>\n",
              "      <td>0.058</td>\n",
              "      <td>47.0</td>\n",
              "      <td>0.9956</td>\n",
              "      <td>3.19</td>\n",
              "      <td>0.40</td>\n",
              "      <td>9.9</td>\n",
              "      <td>6</td>\n",
              "    </tr>\n",
              "    <tr>\n",
              "      <th>3</th>\n",
              "      <td>6</td>\n",
              "      <td>6.2</td>\n",
              "      <td>0.32</td>\n",
              "      <td>0.16</td>\n",
              "      <td>7.0</td>\n",
              "      <td>0.045</td>\n",
              "      <td>30.0</td>\n",
              "      <td>0.9949</td>\n",
              "      <td>3.18</td>\n",
              "      <td>0.47</td>\n",
              "      <td>9.6</td>\n",
              "      <td>6</td>\n",
              "    </tr>\n",
              "    <tr>\n",
              "      <th>4</th>\n",
              "      <td>9</td>\n",
              "      <td>8.1</td>\n",
              "      <td>0.22</td>\n",
              "      <td>0.43</td>\n",
              "      <td>1.5</td>\n",
              "      <td>0.044</td>\n",
              "      <td>28.0</td>\n",
              "      <td>0.9938</td>\n",
              "      <td>3.22</td>\n",
              "      <td>0.45</td>\n",
              "      <td>11.0</td>\n",
              "      <td>6</td>\n",
              "    </tr>\n",
              "  </tbody>\n",
              "</table>\n",
              "</div>"
            ],
            "text/plain": [
              "   Unnamed: 0  fixed acidity  volatile acidity  citric acid  residual sugar  \\\n",
              "0           1            6.3              0.30         0.34             1.6   \n",
              "1           2            8.1              0.28         0.40             6.9   \n",
              "2           3            7.2              0.23         0.32             8.5   \n",
              "3           6            6.2              0.32         0.16             7.0   \n",
              "4           9            8.1              0.22         0.43             1.5   \n",
              "\n",
              "   chlorides  free sulfur dioxide  density    pH  sulphates  alcohol  quality  \n",
              "0      0.049                 14.0   0.9940  3.30       0.49      9.5        6  \n",
              "1      0.050                 30.0   0.9951  3.26       0.44     10.1        6  \n",
              "2      0.058                 47.0   0.9956  3.19       0.40      9.9        6  \n",
              "3      0.045                 30.0   0.9949  3.18       0.47      9.6        6  \n",
              "4      0.044                 28.0   0.9938  3.22       0.45     11.0        6  "
            ]
          },
          "execution_count": 7,
          "metadata": {},
          "output_type": "execute_result"
        }
      ],
      "source": [
        "data_cls.head(5)"
      ]
    },
    {
      "cell_type": "code",
      "execution_count": 8,
      "metadata": {
        "colab": {
          "base_uri": "https://localhost:8080/",
          "height": 206
        },
        "id": "1QxwFsNcu1AD",
        "outputId": "26f14565-7543-43e4-917f-d16f41f41ec6"
      },
      "outputs": [
        {
          "data": {
            "text/html": [
              "<div>\n",
              "<style scoped>\n",
              "    .dataframe tbody tr th:only-of-type {\n",
              "        vertical-align: middle;\n",
              "    }\n",
              "\n",
              "    .dataframe tbody tr th {\n",
              "        vertical-align: top;\n",
              "    }\n",
              "\n",
              "    .dataframe thead th {\n",
              "        text-align: right;\n",
              "    }\n",
              "</style>\n",
              "<table border=\"1\" class=\"dataframe\">\n",
              "  <thead>\n",
              "    <tr style=\"text-align: right;\">\n",
              "      <th></th>\n",
              "      <th>fixed acidity</th>\n",
              "      <th>volatile acidity</th>\n",
              "      <th>citric acid</th>\n",
              "      <th>residual sugar</th>\n",
              "      <th>chlorides</th>\n",
              "      <th>free sulfur dioxide</th>\n",
              "      <th>density</th>\n",
              "      <th>pH</th>\n",
              "      <th>sulphates</th>\n",
              "      <th>alcohol</th>\n",
              "      <th>quality</th>\n",
              "    </tr>\n",
              "  </thead>\n",
              "  <tbody>\n",
              "    <tr>\n",
              "      <th>0</th>\n",
              "      <td>6.3</td>\n",
              "      <td>0.30</td>\n",
              "      <td>0.34</td>\n",
              "      <td>1.6</td>\n",
              "      <td>0.049</td>\n",
              "      <td>14.0</td>\n",
              "      <td>0.9940</td>\n",
              "      <td>3.30</td>\n",
              "      <td>0.49</td>\n",
              "      <td>9.5</td>\n",
              "      <td>6</td>\n",
              "    </tr>\n",
              "    <tr>\n",
              "      <th>1</th>\n",
              "      <td>8.1</td>\n",
              "      <td>0.28</td>\n",
              "      <td>0.40</td>\n",
              "      <td>6.9</td>\n",
              "      <td>0.050</td>\n",
              "      <td>30.0</td>\n",
              "      <td>0.9951</td>\n",
              "      <td>3.26</td>\n",
              "      <td>0.44</td>\n",
              "      <td>10.1</td>\n",
              "      <td>6</td>\n",
              "    </tr>\n",
              "    <tr>\n",
              "      <th>2</th>\n",
              "      <td>7.2</td>\n",
              "      <td>0.23</td>\n",
              "      <td>0.32</td>\n",
              "      <td>8.5</td>\n",
              "      <td>0.058</td>\n",
              "      <td>47.0</td>\n",
              "      <td>0.9956</td>\n",
              "      <td>3.19</td>\n",
              "      <td>0.40</td>\n",
              "      <td>9.9</td>\n",
              "      <td>6</td>\n",
              "    </tr>\n",
              "    <tr>\n",
              "      <th>3</th>\n",
              "      <td>6.2</td>\n",
              "      <td>0.32</td>\n",
              "      <td>0.16</td>\n",
              "      <td>7.0</td>\n",
              "      <td>0.045</td>\n",
              "      <td>30.0</td>\n",
              "      <td>0.9949</td>\n",
              "      <td>3.18</td>\n",
              "      <td>0.47</td>\n",
              "      <td>9.6</td>\n",
              "      <td>6</td>\n",
              "    </tr>\n",
              "    <tr>\n",
              "      <th>4</th>\n",
              "      <td>8.1</td>\n",
              "      <td>0.22</td>\n",
              "      <td>0.43</td>\n",
              "      <td>1.5</td>\n",
              "      <td>0.044</td>\n",
              "      <td>28.0</td>\n",
              "      <td>0.9938</td>\n",
              "      <td>3.22</td>\n",
              "      <td>0.45</td>\n",
              "      <td>11.0</td>\n",
              "      <td>6</td>\n",
              "    </tr>\n",
              "  </tbody>\n",
              "</table>\n",
              "</div>"
            ],
            "text/plain": [
              "   fixed acidity  volatile acidity  citric acid  residual sugar  chlorides  \\\n",
              "0            6.3              0.30         0.34             1.6      0.049   \n",
              "1            8.1              0.28         0.40             6.9      0.050   \n",
              "2            7.2              0.23         0.32             8.5      0.058   \n",
              "3            6.2              0.32         0.16             7.0      0.045   \n",
              "4            8.1              0.22         0.43             1.5      0.044   \n",
              "\n",
              "   free sulfur dioxide  density    pH  sulphates  alcohol  quality  \n",
              "0                 14.0   0.9940  3.30       0.49      9.5        6  \n",
              "1                 30.0   0.9951  3.26       0.44     10.1        6  \n",
              "2                 47.0   0.9956  3.19       0.40      9.9        6  \n",
              "3                 30.0   0.9949  3.18       0.47      9.6        6  \n",
              "4                 28.0   0.9938  3.22       0.45     11.0        6  "
            ]
          },
          "execution_count": 8,
          "metadata": {},
          "output_type": "execute_result"
        }
      ],
      "source": [
        "data_cls = data_cls.drop(['Unnamed: 0'], axis=1)\n",
        "data_cls.head(5)"
      ]
    },
    {
      "cell_type": "markdown",
      "metadata": {
        "id": "z_9Sxp97vGmx"
      },
      "source": []
    },
    {
      "cell_type": "markdown",
      "metadata": {
        "id": "qNqHz_RFvGnk"
      },
      "source": [
        "# Регрессия"
      ]
    },
    {
      "cell_type": "code",
      "execution_count": 9,
      "metadata": {
        "id": "3W27ahgevJF9"
      },
      "outputs": [],
      "source": [
        "y_reg = data_reg['bomb_planted_True']\n",
        "X_reg = data_reg.drop(['bomb_planted_True'], axis=1)"
      ]
    },
    {
      "cell_type": "code",
      "execution_count": 10,
      "metadata": {
        "id": "KAhGdUvMvY56"
      },
      "outputs": [],
      "source": [
        "X_reg_train, X_reg_test, y_reg_train, y_reg_test = train_test_split(X_reg, y_reg, test_size=.2)"
      ]
    },
    {
      "cell_type": "code",
      "execution_count": 11,
      "metadata": {
        "id": "fEDv5UgSwECA"
      },
      "outputs": [],
      "source": [
        "scaler = StandardScaler()\n",
        "X_train_scaled = scaler.fit_transform(X_reg_train)\n",
        "X_test_scaled = scaler.transform(X_reg_test)"
      ]
    },
    {
      "cell_type": "code",
      "execution_count": 12,
      "metadata": {
        "id": "TWUmr8Z-wIQY"
      },
      "outputs": [
        {
          "name": "stdout",
          "output_type": "stream",
          "text": [
            "WARNING:tensorflow:From c:\\Users\\бумбурурик)\\AppData\\Local\\Programs\\Python\\Python311\\Lib\\site-packages\\keras\\src\\backend.py:873: The name tf.get_default_graph is deprecated. Please use tf.compat.v1.get_default_graph instead.\n",
            "\n"
          ]
        }
      ],
      "source": [
        "# создаем модель, как набор последовательных слоев\n",
        "model_reg = tf.keras.Sequential([\n",
        "    tf.keras.layers.Dense(64, activation='relu', input_shape=(14,)),\n",
        "    tf.keras.layers.Dense(32, activation='relu'),\n",
        "    tf.keras.layers.Dense(1)  # Выходной слой без активации для задачи регрессии\n",
        "])"
      ]
    },
    {
      "cell_type": "code",
      "execution_count": 13,
      "metadata": {
        "colab": {
          "base_uri": "https://localhost:8080/"
        },
        "id": "_6nJL2QVyvhv",
        "outputId": "f9e8b25f-b572-4372-c56e-6220faf9cf57"
      },
      "outputs": [
        {
          "name": "stdout",
          "output_type": "stream",
          "text": [
            "Model: \"sequential\"\n",
            "_________________________________________________________________\n",
            " Layer (type)                Output Shape              Param #   \n",
            "=================================================================\n",
            " dense (Dense)               (None, 64)                960       \n",
            "                                                                 \n",
            " dense_1 (Dense)             (None, 32)                2080      \n",
            "                                                                 \n",
            " dense_2 (Dense)             (None, 1)                 33        \n",
            "                                                                 \n",
            "=================================================================\n",
            "Total params: 3073 (12.00 KB)\n",
            "Trainable params: 3073 (12.00 KB)\n",
            "Non-trainable params: 0 (0.00 Byte)\n",
            "_________________________________________________________________\n"
          ]
        }
      ],
      "source": [
        "model_reg.summary()"
      ]
    },
    {
      "cell_type": "code",
      "execution_count": 14,
      "metadata": {
        "id": "HlXGO54yyzbN"
      },
      "outputs": [
        {
          "name": "stdout",
          "output_type": "stream",
          "text": [
            "WARNING:tensorflow:From c:\\Users\\бумбурурик)\\AppData\\Local\\Programs\\Python\\Python311\\Lib\\site-packages\\keras\\src\\optimizers\\__init__.py:309: The name tf.train.Optimizer is deprecated. Please use tf.compat.v1.train.Optimizer instead.\n",
            "\n"
          ]
        }
      ],
      "source": [
        "# Компиляция модели\n",
        "model_reg.compile(optimizer='adam', loss='mean_squared_error')"
      ]
    },
    {
      "cell_type": "code",
      "execution_count": 17,
      "metadata": {
        "colab": {
          "base_uri": "https://localhost:8080/"
        },
        "id": "aPvitIN4y3mM",
        "outputId": "004daf40-a015-4011-f10a-3de359ef3e60"
      },
      "outputs": [
        {
          "name": "stdout",
          "output_type": "stream",
          "text": [
            "Epoch 1/50\n",
            "662/662 [==============================] - 1s 2ms/step - loss: 0.3936\n",
            "Epoch 2/50\n",
            "662/662 [==============================] - 1s 2ms/step - loss: 0.4817\n",
            "Epoch 3/50\n",
            "662/662 [==============================] - 1s 1ms/step - loss: 1.9663\n",
            "Epoch 4/50\n",
            "662/662 [==============================] - 1s 2ms/step - loss: 0.8852\n",
            "Epoch 5/50\n",
            "662/662 [==============================] - 1s 2ms/step - loss: 0.3617\n",
            "Epoch 6/50\n",
            "662/662 [==============================] - 1s 2ms/step - loss: 2.1497\n",
            "Epoch 7/50\n",
            "662/662 [==============================] - 1s 2ms/step - loss: 0.2813\n",
            "Epoch 8/50\n",
            "662/662 [==============================] - 1s 2ms/step - loss: 0.4740\n",
            "Epoch 9/50\n",
            "662/662 [==============================] - 1s 1ms/step - loss: 0.2499\n",
            "Epoch 10/50\n",
            "662/662 [==============================] - 1s 2ms/step - loss: 0.4054\n",
            "Epoch 11/50\n",
            "662/662 [==============================] - 1s 2ms/step - loss: 0.1429\n",
            "Epoch 12/50\n",
            "662/662 [==============================] - 1s 2ms/step - loss: 0.1005\n",
            "Epoch 13/50\n",
            "662/662 [==============================] - 1s 2ms/step - loss: 0.1178\n",
            "Epoch 14/50\n",
            "662/662 [==============================] - 1s 2ms/step - loss: 0.1130\n",
            "Epoch 15/50\n",
            "662/662 [==============================] - 1s 2ms/step - loss: 0.0908\n",
            "Epoch 16/50\n",
            "662/662 [==============================] - 1s 2ms/step - loss: 0.0910\n",
            "Epoch 17/50\n",
            "662/662 [==============================] - 1s 2ms/step - loss: 0.0885\n",
            "Epoch 18/50\n",
            "662/662 [==============================] - 1s 1ms/step - loss: 0.0872\n",
            "Epoch 19/50\n",
            "662/662 [==============================] - 1s 2ms/step - loss: 0.0862\n",
            "Epoch 20/50\n",
            "662/662 [==============================] - 1s 2ms/step - loss: 0.0849\n",
            "Epoch 21/50\n",
            "662/662 [==============================] - 1s 2ms/step - loss: 0.0891\n",
            "Epoch 22/50\n",
            "662/662 [==============================] - 1s 2ms/step - loss: 0.0850\n",
            "Epoch 23/50\n",
            "662/662 [==============================] - 1s 2ms/step - loss: 0.0827\n",
            "Epoch 24/50\n",
            "662/662 [==============================] - 1s 2ms/step - loss: 0.0810\n",
            "Epoch 25/50\n",
            "662/662 [==============================] - 1s 2ms/step - loss: 0.0825\n",
            "Epoch 26/50\n",
            "662/662 [==============================] - 1s 1ms/step - loss: 0.0821\n",
            "Epoch 27/50\n",
            "662/662 [==============================] - 1s 1ms/step - loss: 0.0819\n",
            "Epoch 28/50\n",
            "662/662 [==============================] - 1s 2ms/step - loss: 0.0804\n",
            "Epoch 29/50\n",
            "662/662 [==============================] - 1s 2ms/step - loss: 0.0825\n",
            "Epoch 30/50\n",
            "662/662 [==============================] - 1s 2ms/step - loss: 0.0839\n",
            "Epoch 31/50\n",
            "662/662 [==============================] - 1s 2ms/step - loss: 0.0812\n",
            "Epoch 32/50\n",
            "662/662 [==============================] - 1s 2ms/step - loss: 0.0805\n",
            "Epoch 33/50\n",
            "662/662 [==============================] - 1s 2ms/step - loss: 0.0811\n",
            "Epoch 34/50\n",
            "662/662 [==============================] - 1s 2ms/step - loss: 0.0802\n",
            "Epoch 35/50\n",
            "662/662 [==============================] - 1s 1ms/step - loss: 0.0797\n",
            "Epoch 36/50\n",
            "662/662 [==============================] - 1s 2ms/step - loss: 0.0799\n",
            "Epoch 37/50\n",
            "662/662 [==============================] - 1s 2ms/step - loss: 0.0790\n",
            "Epoch 38/50\n",
            "662/662 [==============================] - 1s 2ms/step - loss: 0.0775\n",
            "Epoch 39/50\n",
            "662/662 [==============================] - 1s 2ms/step - loss: 0.0771\n",
            "Epoch 40/50\n",
            "662/662 [==============================] - 1s 2ms/step - loss: 0.0759\n",
            "Epoch 41/50\n",
            "662/662 [==============================] - 1s 2ms/step - loss: 0.0738\n",
            "Epoch 42/50\n",
            "662/662 [==============================] - 1s 2ms/step - loss: 0.0747\n",
            "Epoch 43/50\n",
            "662/662 [==============================] - 1s 1ms/step - loss: 0.0741\n",
            "Epoch 44/50\n",
            "662/662 [==============================] - 1s 2ms/step - loss: 0.0757\n",
            "Epoch 45/50\n",
            "662/662 [==============================] - 1s 2ms/step - loss: 0.0728\n",
            "Epoch 46/50\n",
            "662/662 [==============================] - 1s 2ms/step - loss: 0.0727\n",
            "Epoch 47/50\n",
            "662/662 [==============================] - 1s 2ms/step - loss: 0.0736\n",
            "Epoch 48/50\n",
            "662/662 [==============================] - 1s 1ms/step - loss: 0.0725\n",
            "Epoch 49/50\n",
            "662/662 [==============================] - 1s 2ms/step - loss: 0.0722\n",
            "Epoch 50/50\n",
            "662/662 [==============================] - 1s 1ms/step - loss: 0.0733\n"
          ]
        },
        {
          "data": {
            "text/plain": [
              "<keras.src.callbacks.History at 0x13475dd9c10>"
            ]
          },
          "execution_count": 17,
          "metadata": {},
          "output_type": "execute_result"
        }
      ],
      "source": [
        "# Обучение модели\n",
        "model_reg.fit(X_reg_train, y_reg_train, epochs=50, batch_size=32)"
      ]
    },
    {
      "cell_type": "code",
      "execution_count": 18,
      "metadata": {
        "colab": {
          "base_uri": "https://localhost:8080/"
        },
        "id": "ltDA2gCzzlmA",
        "outputId": "2ecb5c58-52b9-4666-b156-9c0ccd465101"
      },
      "outputs": [
        {
          "name": "stdout",
          "output_type": "stream",
          "text": [
            "166/166 [==============================] - 0s 1ms/step\n",
            "Mean Squared Error (Regression): 0.07335418894798788\n",
            "R2 Score (Regression): 0.7065647612628019\n"
          ]
        }
      ],
      "source": [
        "# Оценка модели\n",
        "y_pred = model_reg.predict(X_reg_test)\n",
        "mse = mean_squared_error(y_reg_test, y_pred)\n",
        "r2 = r2_score(y_reg_test, y_pred)\n",
        "print(f'Mean Squared Error (Regression): {mse}')\n",
        "print(f'R2 Score (Regression): {r2}')"
      ]
    },
    {
      "cell_type": "markdown",
      "metadata": {
        "id": "0sRUSzxt0OtS"
      },
      "source": [
        "# Классификация"
      ]
    },
    {
      "cell_type": "code",
      "execution_count": 19,
      "metadata": {
        "id": "GByRVrMt0SXM"
      },
      "outputs": [],
      "source": [
        "y_cls = data_cls['quality']\n",
        "X_cls = data_cls.drop(['quality'], axis=1)"
      ]
    },
    {
      "cell_type": "code",
      "execution_count": 20,
      "metadata": {
        "id": "FHAceUPx0iT4"
      },
      "outputs": [],
      "source": [
        "X_cls_train, X_cls_test, y_cls_train, y_cls_test = train_test_split(X_cls, y_cls, test_size=.2)"
      ]
    },
    {
      "cell_type": "code",
      "execution_count": 21,
      "metadata": {
        "id": "T8Wbta-l1MSY"
      },
      "outputs": [],
      "source": [
        "# Построение модели\n",
        "model_cls = tf.keras.Sequential([\n",
        "    tf.keras.layers.Dense(64, activation='relu', input_shape=(X_cls_train.shape[1],)),\n",
        "    tf.keras.layers.Dense(32, activation='relu'),\n",
        "    tf.keras.layers.Dense(32, activation='softmax')# Выходной слой с функцией активации softmax для классификации\n",
        "])"
      ]
    },
    {
      "cell_type": "code",
      "execution_count": 22,
      "metadata": {
        "id": "6c1b9AIV1Y06"
      },
      "outputs": [],
      "source": [
        "# Компиляция модели\n",
        "model_cls.compile(optimizer='adam', loss='sparse_categorical_crossentropy', metrics=['accuracy'])"
      ]
    },
    {
      "cell_type": "code",
      "execution_count": 23,
      "metadata": {
        "colab": {
          "base_uri": "https://localhost:8080/"
        },
        "id": "OFbBtLS41dni",
        "outputId": "acb95d5e-f36e-4b2f-b261-d3e7c9111e27"
      },
      "outputs": [
        {
          "name": "stdout",
          "output_type": "stream",
          "text": [
            "Epoch 1/50\n",
            "WARNING:tensorflow:From c:\\Users\\бумбурурик)\\AppData\\Local\\Programs\\Python\\Python311\\Lib\\site-packages\\keras\\src\\engine\\base_layer_utils.py:384: The name tf.executing_eagerly_outside_functions is deprecated. Please use tf.compat.v1.executing_eagerly_outside_functions instead.\n",
            "\n",
            "102/102 [==============================] - 1s 2ms/step - loss: 2.3026 - accuracy: 0.3750\n",
            "Epoch 2/50\n",
            "102/102 [==============================] - 0s 2ms/step - loss: 1.1352 - accuracy: 0.4657\n",
            "Epoch 3/50\n",
            "102/102 [==============================] - 0s 2ms/step - loss: 1.1105 - accuracy: 0.4703\n",
            "Epoch 4/50\n",
            "102/102 [==============================] - 0s 2ms/step - loss: 1.0925 - accuracy: 0.4822\n",
            "Epoch 5/50\n",
            "102/102 [==============================] - 0s 2ms/step - loss: 1.0836 - accuracy: 0.4786\n",
            "Epoch 6/50\n",
            "102/102 [==============================] - 0s 2ms/step - loss: 1.0638 - accuracy: 0.4899\n",
            "Epoch 7/50\n",
            "102/102 [==============================] - 0s 2ms/step - loss: 1.0532 - accuracy: 0.4960\n",
            "Epoch 8/50\n",
            "102/102 [==============================] - 0s 2ms/step - loss: 1.0473 - accuracy: 0.4979\n",
            "Epoch 9/50\n",
            "102/102 [==============================] - 0s 2ms/step - loss: 1.0447 - accuracy: 0.5028\n",
            "Epoch 10/50\n",
            "102/102 [==============================] - 0s 2ms/step - loss: 1.0317 - accuracy: 0.5172\n",
            "Epoch 11/50\n",
            "102/102 [==============================] - 0s 2ms/step - loss: 1.0304 - accuracy: 0.5049\n",
            "Epoch 12/50\n",
            "102/102 [==============================] - 0s 2ms/step - loss: 1.0342 - accuracy: 0.5061\n",
            "Epoch 13/50\n",
            "102/102 [==============================] - 0s 2ms/step - loss: 1.0244 - accuracy: 0.5150\n",
            "Epoch 14/50\n",
            "102/102 [==============================] - 0s 2ms/step - loss: 1.0205 - accuracy: 0.5218\n",
            "Epoch 15/50\n",
            "102/102 [==============================] - 0s 2ms/step - loss: 1.0171 - accuracy: 0.5221\n",
            "Epoch 16/50\n",
            "102/102 [==============================] - 0s 2ms/step - loss: 1.0147 - accuracy: 0.5218\n",
            "Epoch 17/50\n",
            "102/102 [==============================] - 0s 2ms/step - loss: 1.0096 - accuracy: 0.5254\n",
            "Epoch 18/50\n",
            "102/102 [==============================] - 0s 2ms/step - loss: 1.0123 - accuracy: 0.5227\n",
            "Epoch 19/50\n",
            "102/102 [==============================] - 0s 2ms/step - loss: 1.0125 - accuracy: 0.5233\n",
            "Epoch 20/50\n",
            "102/102 [==============================] - 0s 2ms/step - loss: 1.0075 - accuracy: 0.5202\n",
            "Epoch 21/50\n",
            "102/102 [==============================] - 0s 2ms/step - loss: 1.0053 - accuracy: 0.5230\n",
            "Epoch 22/50\n",
            "102/102 [==============================] - 0s 2ms/step - loss: 1.0020 - accuracy: 0.5218\n",
            "Epoch 23/50\n",
            "102/102 [==============================] - 0s 2ms/step - loss: 1.0121 - accuracy: 0.5169\n",
            "Epoch 24/50\n",
            "102/102 [==============================] - 0s 2ms/step - loss: 1.0101 - accuracy: 0.5184\n",
            "Epoch 25/50\n",
            "102/102 [==============================] - 0s 2ms/step - loss: 0.9979 - accuracy: 0.5257\n",
            "Epoch 26/50\n",
            "102/102 [==============================] - 0s 2ms/step - loss: 0.9932 - accuracy: 0.5309\n",
            "Epoch 27/50\n",
            "102/102 [==============================] - 0s 2ms/step - loss: 0.9950 - accuracy: 0.5355\n",
            "Epoch 28/50\n",
            "102/102 [==============================] - 0s 2ms/step - loss: 0.9949 - accuracy: 0.5291\n",
            "Epoch 29/50\n",
            "102/102 [==============================] - 0s 2ms/step - loss: 0.9897 - accuracy: 0.5343\n",
            "Epoch 30/50\n",
            "102/102 [==============================] - 0s 2ms/step - loss: 0.9962 - accuracy: 0.5282\n",
            "Epoch 31/50\n",
            "102/102 [==============================] - 0s 2ms/step - loss: 0.9828 - accuracy: 0.5276\n",
            "Epoch 32/50\n",
            "102/102 [==============================] - 0s 2ms/step - loss: 0.9816 - accuracy: 0.5322\n",
            "Epoch 33/50\n",
            "102/102 [==============================] - 0s 2ms/step - loss: 0.9878 - accuracy: 0.5334\n",
            "Epoch 34/50\n",
            "102/102 [==============================] - 0s 2ms/step - loss: 0.9866 - accuracy: 0.5377\n",
            "Epoch 35/50\n",
            "102/102 [==============================] - 0s 2ms/step - loss: 0.9869 - accuracy: 0.5282\n",
            "Epoch 36/50\n",
            "102/102 [==============================] - 0s 2ms/step - loss: 0.9845 - accuracy: 0.5355\n",
            "Epoch 37/50\n",
            "102/102 [==============================] - 0s 2ms/step - loss: 0.9846 - accuracy: 0.5362\n",
            "Epoch 38/50\n",
            "102/102 [==============================] - 0s 2ms/step - loss: 0.9785 - accuracy: 0.5453\n",
            "Epoch 39/50\n",
            "102/102 [==============================] - 0s 2ms/step - loss: 0.9782 - accuracy: 0.5435\n",
            "Epoch 40/50\n",
            "102/102 [==============================] - 0s 2ms/step - loss: 0.9826 - accuracy: 0.5374\n",
            "Epoch 41/50\n",
            "102/102 [==============================] - 0s 2ms/step - loss: 0.9861 - accuracy: 0.5263\n",
            "Epoch 42/50\n",
            "102/102 [==============================] - 0s 2ms/step - loss: 0.9776 - accuracy: 0.5340\n",
            "Epoch 43/50\n",
            "102/102 [==============================] - 0s 2ms/step - loss: 0.9796 - accuracy: 0.5365\n",
            "Epoch 44/50\n",
            "102/102 [==============================] - 0s 2ms/step - loss: 0.9787 - accuracy: 0.5420\n",
            "Epoch 45/50\n",
            "102/102 [==============================] - 0s 2ms/step - loss: 0.9759 - accuracy: 0.5423\n",
            "Epoch 46/50\n",
            "102/102 [==============================] - 0s 2ms/step - loss: 0.9833 - accuracy: 0.5288\n",
            "Epoch 47/50\n",
            "102/102 [==============================] - 0s 2ms/step - loss: 0.9759 - accuracy: 0.5447\n",
            "Epoch 48/50\n",
            "102/102 [==============================] - 0s 2ms/step - loss: 0.9689 - accuracy: 0.5411\n",
            "Epoch 49/50\n",
            "102/102 [==============================] - 0s 2ms/step - loss: 0.9732 - accuracy: 0.5407\n",
            "Epoch 50/50\n",
            "102/102 [==============================] - 0s 2ms/step - loss: 0.9779 - accuracy: 0.5294\n"
          ]
        },
        {
          "data": {
            "text/plain": [
              "<keras.src.callbacks.History at 0x13475dc2150>"
            ]
          },
          "execution_count": 23,
          "metadata": {},
          "output_type": "execute_result"
        }
      ],
      "source": [
        "# Обучение модели\n",
        "model_cls.fit(X_cls_train, y_cls_train, epochs=50, batch_size=32)"
      ]
    },
    {
      "cell_type": "code",
      "execution_count": 24,
      "metadata": {
        "colab": {
          "base_uri": "https://localhost:8080/"
        },
        "id": "AMV8pTd62VXr",
        "outputId": "efac8c39-5ec2-444d-b808-ce206c5d0255"
      },
      "outputs": [
        {
          "name": "stdout",
          "output_type": "stream",
          "text": [
            "26/26 [==============================] - 0s 2ms/step\n",
            "Accuracy (Classification): 0.5532435740514076\n"
          ]
        }
      ],
      "source": [
        "# Оценка модели\n",
        "y_pred_prob = model_cls.predict(X_cls_test)\n",
        "y_pred = tf.argmax(y_pred_prob, axis=1)\n",
        "\n",
        "accuracy = accuracy_score(y_cls_test, y_pred)\n",
        "print(f'Accuracy (Classification): {accuracy}')"
      ]
    },
    {
      "cell_type": "markdown",
      "metadata": {
        "id": "ebEgKHm220cQ"
      },
      "source": [
        "# Переход к MLP"
      ]
    },
    {
      "cell_type": "markdown",
      "metadata": {},
      "source": [
        "Задание №2.\n",
        "\n",
        "Разработать многослойный персептрон (MLP), с помощью которого можно решать задачи регрессии и классификации. Предусмотреть возможность использования таких функции активации, как sigmoid, tanh и relu; также предусмотреть возможность указать, сколько слоев нужно, сколько на каждом из них нейронов и какую функцию активации должен иметь слой. Реализовать обучение MLP методом обратного распространения ошибки; самостоятельно найти производные функций sigmoid, tanh и relu; реализовать классический градиентный спуск с возможностью указания шага."
      ]
    },
    {
      "cell_type": "markdown",
      "metadata": {},
      "source": [
        "### Регрессия"
      ]
    },
    {
      "cell_type": "code",
      "execution_count": 25,
      "metadata": {},
      "outputs": [],
      "source": [
        "class MLP_reg:\n",
        "    def __init__(self, layer_sizes, activation_functions):\n",
        "        self.layer_sizes = layer_sizes\n",
        "        self.activation_functions = activation_functions\n",
        "        self.weights = []\n",
        "        self.biases = []\n",
        "        self.activations = []\n",
        "        for i in range(len(layer_sizes) - 1):\n",
        "            self.weights.append(np.random.randn(layer_sizes[i], layer_sizes[i + 1]))\n",
        "            self.biases.append(np.random.randn(layer_sizes[i + 1]))\n",
        "            self.activations.append(np.zeros(layer_sizes[i + 1]))\n",
        "\n",
        "    def sigmoid(self, x):\n",
        "        return 1 / (1 + np.exp(-x))\n",
        "\n",
        "    def tanh(self, x):\n",
        "        return np.tanh(x)\n",
        "\n",
        "    def relu(self, x):\n",
        "        return np.maximum(0, x)\n",
        "\n",
        "    def derivative(self, x, activation_function):\n",
        "        if activation_function == 'sigmoid':\n",
        "            return x * (1 - x)\n",
        "        elif activation_function == 'tanh':\n",
        "            return 1 - np.power(x, 2)\n",
        "        elif activation_function == 'relu':\n",
        "            return (x > 0).astype(float)\n",
        "\n",
        "    def forward(self, x):\n",
        "        for i in range(len(self.weights)):\n",
        "            x = np.dot(x, self.weights[i]) + self.biases[i]\n",
        "            if self.activation_functions[i] == 'sigmoid':\n",
        "                x = self.sigmoid(x)\n",
        "            elif self.activation_functions[i] == 'tanh':\n",
        "                x = self.tanh(x)\n",
        "            elif self.activation_functions[i] == 'relu':\n",
        "                x = self.relu(x)\n",
        "            self.activations[i] = x\n",
        "        return x\n",
        "\n",
        "    def backward(self, x, y, learning_rate):\n",
        "        output = self.forward(x)\n",
        "        deltas = []\n",
        "        for i in reversed(range(len(self.weights))):\n",
        "            if i == len(self.weights) - 1:\n",
        "                error = output - y\n",
        "            else:\n",
        "                error = np.dot(deltas[-1], self.weights[i + 1].T)\n",
        "            delta = error * self.derivative(self.activations[i], self.activation_functions[i])\n",
        "            deltas.append(delta)\n",
        "        deltas.reverse()\n",
        "        for i in range(len(self.weights)):\n",
        "            self.weights[i] -= learning_rate * np.dot(x.T if i == 0 else self.activations[i - 1].T, deltas[i])\n",
        "            self.biases[i] -= learning_rate * np.sum(deltas[i], axis=0)\n",
        "\n",
        "    def train(self, X, y, learning_rate, epochs):\n",
        "        for epoch in range(epochs):\n",
        "            self.backward(X, y, learning_rate)\n",
        "\n",
        "    def r2_score(self, y_true, y_pred):\n",
        "        ss_res = np.sum(np.square(y_true - y_pred))\n",
        "        ss_tot = np.sum(np.square(y_true - np.mean(y_true)))\n",
        "        return 1 - ss_res / ss_tot"
      ]
    },
    {
      "cell_type": "code",
      "execution_count": 26,
      "metadata": {},
      "outputs": [
        {
          "name": "stdout",
          "output_type": "stream",
          "text": [
            "r2_score: 0.03952215953605731\n"
          ]
        }
      ],
      "source": [
        "data_reg2 = pd.read_csv(\"wines.csv\")\n",
        "\n",
        "def preprocess_data(trip_data):\n",
        "    X = data_reg2.drop(columns=['quality']).to_numpy()\n",
        "    y = data_reg2['quality'].to_numpy().reshape(-1, 1)\n",
        "    X = (X - X.mean(axis=0)) / X.std(axis=0)\n",
        "    y = (y - y.mean()) / y.std()\n",
        "    return X, y\n",
        "\n",
        "# Подготовка данных\n",
        "X, y = preprocess_data(data_reg2)\n",
        "\n",
        "# Инициализация и обучение модели\n",
        "layer_sizes = [X.shape[1], 10, 5, 1]  # Примерная архитектура сети\n",
        "activation_functions = ['tanh', 'relu', 'tanh']\n",
        "mlp = MLP_reg(layer_sizes, activation_functions)\n",
        "mlp.train(X, y, learning_rate=0.01, epochs=100)\n",
        "\n",
        "# Проверка модели\n",
        "y_pred = mlp.forward(X)\n",
        "r2 = mlp.r2_score(y, y_pred)\n",
        "print(f\"r2_score: {r2}\")"
      ]
    },
    {
      "cell_type": "markdown",
      "metadata": {},
      "source": [
        "### Классификация"
      ]
    },
    {
      "cell_type": "code",
      "execution_count": 27,
      "metadata": {},
      "outputs": [],
      "source": [
        "class MLP_cls:\n",
        "    def __init__(self, layer_sizes, activation_functions):\n",
        "        self.layer_sizes = layer_sizes\n",
        "        self.activation_functions = activation_functions\n",
        "        self.weights = [np.random.randn(y, x) for x, y in zip(layer_sizes[:-1], layer_sizes[1:])]\n",
        "        self.biases = [np.random.randn(y, 1) for y in layer_sizes[1:]]\n",
        "\n",
        "    def sigmoid(self, z):\n",
        "        return 1 / (1 + np.exp(-z))\n",
        "\n",
        "    def sigmoid_derivative(self, z):\n",
        "        return self.sigmoid(z) * (1 - self.sigmoid(z))\n",
        "\n",
        "    def tanh(self, z):\n",
        "        return np.tanh(z)\n",
        "\n",
        "    def tanh_derivative(self, z):\n",
        "        return 1 - np.tanh(z) ** 2\n",
        "\n",
        "    def relu(self, z):\n",
        "        return np.maximum(0, z)\n",
        "\n",
        "    def relu_derivative(self, z):\n",
        "        return (z > 0) * 1\n",
        "\n",
        "    def forward_propagation(self, input_data):\n",
        "\n",
        "        for b, w, activation in zip(self.biases, self.weights, self.activation_functions):\n",
        "            if activation == 'sigmoid':\n",
        "                input_data = self.sigmoid(np.dot(w, input_data) + b)\n",
        "            elif activation == 'tanh':\n",
        "                input_data = self.tanh(np.dot(w, input_data) + b)\n",
        "            elif activation == 'relu':\n",
        "                input_data = self.relu(np.dot(w, input_data) + b)\n",
        "        return input_data\n",
        "\n",
        "    def backpropagation(self, input_data, target):\n",
        "\n",
        "        gradient_b = [np.zeros(b.shape) for b in self.biases]\n",
        "        gradient_w = [np.zeros(w.shape) for w in self.weights]\n",
        "\n",
        "\n",
        "        activation = input_data\n",
        "        activations = [input_data]\n",
        "        zs = []\n",
        "        for b, w, activation_function in zip(self.biases, self.weights, self.activation_functions):\n",
        "            z = np.dot(w, activation) + b\n",
        "            zs.append(z)\n",
        "            if activation_function == 'sigmoid':\n",
        "                activation = self.sigmoid(z)\n",
        "            elif activation_function == 'tanh':\n",
        "                activation = self.tanh(z)\n",
        "            elif activation_function == 'relu':\n",
        "                activation = self.relu(z)\n",
        "            activations.append(activation)\n",
        "\n",
        "        # Backward pass\n",
        "        delta = self.cost_derivative(activations[-1], target) * self.get_activation_derivative(activations[-1], self.activation_functions[-1])\n",
        "        gradient_b[-1] = delta\n",
        "        gradient_w[-1] = np.dot(delta, activations[-2].T)\n",
        "\n",
        "        for l in range(2, len(self.layer_sizes)):\n",
        "            z = zs[-l]\n",
        "            activation_derivative = self.get_activation_derivative(z, self.activation_functions[-l])\n",
        "            delta = np.dot(self.weights[-l + 1].T, delta) * activation_derivative\n",
        "            gradient_b[-l] = delta\n",
        "            gradient_w[-l] = np.dot(delta, activations[-l - 1].T)\n",
        "\n",
        "        return gradient_b, gradient_w\n",
        "\n",
        "    def get_activation_derivative(self, z, activation_function):\n",
        "\n",
        "        if activation_function == 'sigmoid':\n",
        "            return self.sigmoid_derivative(z)\n",
        "        elif activation_function == 'tanh':\n",
        "            return self.tanh_derivative(z)\n",
        "        elif activation_function == 'relu':\n",
        "            return self.relu_derivative(z)\n",
        "    def cost_derivative(self, output_activations, target):\n",
        "\n",
        "        return output_activations - target\n",
        "\n",
        "    def update_parameters(self, mini_batch, learning_rate):\n",
        "\n",
        "        sum_gradient_b = [np.zeros(b.shape) for b in self.biases]\n",
        "        sum_gradient_w = [np.zeros(w.shape) for w in self.weights]\n",
        "\n",
        "        for x, y in mini_batch:\n",
        "            delta_gradient_b, delta_gradient_w = self.backpropagation(x, y)\n",
        "            sum_gradient_b = [nb + dnb for nb, dnb in zip(sum_gradient_b, delta_gradient_b)]\n",
        "            sum_gradient_w = [nw + dnw for nw, dnw in zip(sum_gradient_w, delta_gradient_w)]\n",
        "\n",
        "        self.weights = [w - (learning_rate / len(mini_batch)) * nw\n",
        "                        for w, nw in zip(self.weights, sum_gradient_w)]\n",
        "        self.biases = [b - (learning_rate / len(mini_batch)) * nb\n",
        "                       for b, nb in zip(self.biases, sum_gradient_b)]"
      ]
    },
    {
      "cell_type": "code",
      "execution_count": 28,
      "metadata": {},
      "outputs": [
        {
          "name": "stdout",
          "output_type": "stream",
          "text": [
            "Accuracy: 0.9168451556003527\n"
          ]
        }
      ],
      "source": [
        "X = data_reg.drop(['bomb_planted_True'], axis=1)\n",
        "y = data_reg['bomb_planted_True'].values.reshape(-1, 1)\n",
        "\n",
        "scaler = StandardScaler()\n",
        "X_scaled = scaler.fit_transform(X)\n",
        "\n",
        "X_train, X_test, y_train, y_test = train_test_split(X_scaled, y, test_size=0.3, random_state=42)\n",
        "\n",
        "# Подготовка данных для MLP\n",
        "X_train = [X_train[i].reshape(-1, 1) for i in range(X_train.shape[0])]\n",
        "y_train = [y_train[i].reshape(-1, 1) for i in range(y_train.shape[0])]\n",
        "training_data = list(zip(X_train, y_train))\n",
        "\n",
        "# Определение параметров сети\n",
        "input_size = X.shape[1]\n",
        "hidden_layers = [10, 5]\n",
        "output_size = 1\n",
        "\n",
        "# Создание и обучение MLP\n",
        "mlp = MLP_cls([input_size] + hidden_layers + [output_size], ['relu'] * len(hidden_layers) + ['sigmoid'])\n",
        "learning_rate = 0.01\n",
        "for epoch in range(20):\n",
        "    np.random.shuffle(training_data)\n",
        "    mini_batches = [training_data[k:k+10] for k in range(0, len(training_data), 10)]\n",
        "    for mini_batch in mini_batches:\n",
        "        mlp.update_parameters(mini_batch, learning_rate)\n",
        "\n",
        "def predict(mlp, X):\n",
        "    predictions = [mlp.forward_propagation(x.reshape(-1, 1)) for x in X]\n",
        "    return np.array(predictions).squeeze()\n",
        "\n",
        "predictions = predict(mlp, X_test)\n",
        "predictions_binary = (predictions > 0.5).astype(int)\n",
        "accuracy = accuracy_score(y_test, predictions_binary)\n",
        "\n",
        "print(\"Accuracy:\", accuracy)"
      ]
    }
  ],
  "metadata": {
    "colab": {
      "provenance": []
    },
    "kernelspec": {
      "display_name": "Python 3",
      "name": "python3"
    },
    "language_info": {
      "codemirror_mode": {
        "name": "ipython",
        "version": 3
      },
      "file_extension": ".py",
      "mimetype": "text/x-python",
      "name": "python",
      "nbconvert_exporter": "python",
      "pygments_lexer": "ipython3",
      "version": "3.11.5"
    }
  },
  "nbformat": 4,
  "nbformat_minor": 0
}
